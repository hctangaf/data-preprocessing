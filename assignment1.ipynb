{
 "cells": [
  {
   "cell_type": "code",
   "execution_count": 1,
   "metadata": {
    "scrolled": true
   },
   "outputs": [],
   "source": [
    "import pandas as pd\n",
    "import matplotlib.pyplot as plt\n",
    "import seaborn as sns\n",
    "import numpy as np"
   ]
  },
  {
   "cell_type": "code",
   "execution_count": 2,
   "metadata": {
    "scrolled": false
   },
   "outputs": [
    {
     "data": {
      "text/html": [
       "<div>\n",
       "<style scoped>\n",
       "    .dataframe tbody tr th:only-of-type {\n",
       "        vertical-align: middle;\n",
       "    }\n",
       "\n",
       "    .dataframe tbody tr th {\n",
       "        vertical-align: top;\n",
       "    }\n",
       "\n",
       "    .dataframe thead th {\n",
       "        text-align: right;\n",
       "    }\n",
       "</style>\n",
       "<table border=\"1\" class=\"dataframe\">\n",
       "  <thead>\n",
       "    <tr style=\"text-align: right;\">\n",
       "      <th></th>\n",
       "      <th>Id</th>\n",
       "      <th>MSSubClass</th>\n",
       "      <th>MSZoning</th>\n",
       "      <th>LotFrontage</th>\n",
       "      <th>LotArea</th>\n",
       "      <th>Street</th>\n",
       "      <th>Alley</th>\n",
       "      <th>LotShape</th>\n",
       "      <th>LandContour</th>\n",
       "      <th>Utilities</th>\n",
       "      <th>...</th>\n",
       "      <th>PoolArea</th>\n",
       "      <th>PoolQC</th>\n",
       "      <th>Fence</th>\n",
       "      <th>MiscFeature</th>\n",
       "      <th>MiscVal</th>\n",
       "      <th>MoSold</th>\n",
       "      <th>YrSold</th>\n",
       "      <th>SaleType</th>\n",
       "      <th>SaleCondition</th>\n",
       "      <th>SalePrice</th>\n",
       "    </tr>\n",
       "  </thead>\n",
       "  <tbody>\n",
       "    <tr>\n",
       "      <th>0</th>\n",
       "      <td>1</td>\n",
       "      <td>60</td>\n",
       "      <td>RL</td>\n",
       "      <td>65.0</td>\n",
       "      <td>8450</td>\n",
       "      <td>Pave</td>\n",
       "      <td>NaN</td>\n",
       "      <td>Reg</td>\n",
       "      <td>Lvl</td>\n",
       "      <td>AllPub</td>\n",
       "      <td>...</td>\n",
       "      <td>0</td>\n",
       "      <td>NaN</td>\n",
       "      <td>NaN</td>\n",
       "      <td>NaN</td>\n",
       "      <td>0</td>\n",
       "      <td>2</td>\n",
       "      <td>2008</td>\n",
       "      <td>WD</td>\n",
       "      <td>Normal</td>\n",
       "      <td>208500</td>\n",
       "    </tr>\n",
       "    <tr>\n",
       "      <th>1</th>\n",
       "      <td>2</td>\n",
       "      <td>20</td>\n",
       "      <td>RL</td>\n",
       "      <td>80.0</td>\n",
       "      <td>9600</td>\n",
       "      <td>Pave</td>\n",
       "      <td>NaN</td>\n",
       "      <td>Reg</td>\n",
       "      <td>Lvl</td>\n",
       "      <td>AllPub</td>\n",
       "      <td>...</td>\n",
       "      <td>0</td>\n",
       "      <td>NaN</td>\n",
       "      <td>NaN</td>\n",
       "      <td>NaN</td>\n",
       "      <td>0</td>\n",
       "      <td>5</td>\n",
       "      <td>2007</td>\n",
       "      <td>WD</td>\n",
       "      <td>Normal</td>\n",
       "      <td>181500</td>\n",
       "    </tr>\n",
       "    <tr>\n",
       "      <th>2</th>\n",
       "      <td>3</td>\n",
       "      <td>60</td>\n",
       "      <td>RL</td>\n",
       "      <td>68.0</td>\n",
       "      <td>11250</td>\n",
       "      <td>Pave</td>\n",
       "      <td>NaN</td>\n",
       "      <td>IR1</td>\n",
       "      <td>Lvl</td>\n",
       "      <td>AllPub</td>\n",
       "      <td>...</td>\n",
       "      <td>0</td>\n",
       "      <td>NaN</td>\n",
       "      <td>NaN</td>\n",
       "      <td>NaN</td>\n",
       "      <td>0</td>\n",
       "      <td>9</td>\n",
       "      <td>2008</td>\n",
       "      <td>WD</td>\n",
       "      <td>Normal</td>\n",
       "      <td>223500</td>\n",
       "    </tr>\n",
       "    <tr>\n",
       "      <th>3</th>\n",
       "      <td>4</td>\n",
       "      <td>70</td>\n",
       "      <td>RL</td>\n",
       "      <td>60.0</td>\n",
       "      <td>9550</td>\n",
       "      <td>Pave</td>\n",
       "      <td>NaN</td>\n",
       "      <td>IR1</td>\n",
       "      <td>Lvl</td>\n",
       "      <td>AllPub</td>\n",
       "      <td>...</td>\n",
       "      <td>0</td>\n",
       "      <td>NaN</td>\n",
       "      <td>NaN</td>\n",
       "      <td>NaN</td>\n",
       "      <td>0</td>\n",
       "      <td>2</td>\n",
       "      <td>2006</td>\n",
       "      <td>WD</td>\n",
       "      <td>Abnorml</td>\n",
       "      <td>140000</td>\n",
       "    </tr>\n",
       "    <tr>\n",
       "      <th>4</th>\n",
       "      <td>5</td>\n",
       "      <td>60</td>\n",
       "      <td>RL</td>\n",
       "      <td>84.0</td>\n",
       "      <td>14260</td>\n",
       "      <td>Pave</td>\n",
       "      <td>NaN</td>\n",
       "      <td>IR1</td>\n",
       "      <td>Lvl</td>\n",
       "      <td>AllPub</td>\n",
       "      <td>...</td>\n",
       "      <td>0</td>\n",
       "      <td>NaN</td>\n",
       "      <td>NaN</td>\n",
       "      <td>NaN</td>\n",
       "      <td>0</td>\n",
       "      <td>12</td>\n",
       "      <td>2008</td>\n",
       "      <td>WD</td>\n",
       "      <td>Normal</td>\n",
       "      <td>250000</td>\n",
       "    </tr>\n",
       "  </tbody>\n",
       "</table>\n",
       "<p>5 rows × 81 columns</p>\n",
       "</div>"
      ],
      "text/plain": [
       "   Id  MSSubClass MSZoning  LotFrontage  LotArea Street Alley LotShape  \\\n",
       "0   1          60       RL         65.0     8450   Pave   NaN      Reg   \n",
       "1   2          20       RL         80.0     9600   Pave   NaN      Reg   \n",
       "2   3          60       RL         68.0    11250   Pave   NaN      IR1   \n",
       "3   4          70       RL         60.0     9550   Pave   NaN      IR1   \n",
       "4   5          60       RL         84.0    14260   Pave   NaN      IR1   \n",
       "\n",
       "  LandContour Utilities  ... PoolArea PoolQC Fence MiscFeature MiscVal MoSold  \\\n",
       "0         Lvl    AllPub  ...        0    NaN   NaN         NaN       0      2   \n",
       "1         Lvl    AllPub  ...        0    NaN   NaN         NaN       0      5   \n",
       "2         Lvl    AllPub  ...        0    NaN   NaN         NaN       0      9   \n",
       "3         Lvl    AllPub  ...        0    NaN   NaN         NaN       0      2   \n",
       "4         Lvl    AllPub  ...        0    NaN   NaN         NaN       0     12   \n",
       "\n",
       "  YrSold  SaleType  SaleCondition  SalePrice  \n",
       "0   2008        WD         Normal     208500  \n",
       "1   2007        WD         Normal     181500  \n",
       "2   2008        WD         Normal     223500  \n",
       "3   2006        WD        Abnorml     140000  \n",
       "4   2008        WD         Normal     250000  \n",
       "\n",
       "[5 rows x 81 columns]"
      ]
     },
     "metadata": {},
     "output_type": "display_data"
    },
    {
     "name": "stdout",
     "output_type": "stream",
     "text": [
      "(1460, 81)\n"
     ]
    }
   ],
   "source": [
    "df = pd.read_csv('train.csv')\n",
    "display(df.head())\n",
    "print(df.shape)"
   ]
  },
  {
   "cell_type": "code",
   "execution_count": 3,
   "metadata": {},
   "outputs": [
    {
     "name": "stdout",
     "output_type": "stream",
     "text": [
      "34\n"
     ]
    }
   ],
   "source": [
    "number = ['LotFrontage', 'LotArea', 'YearBuilt', 'YearRemodAdd', 'MasVnrArea', 'BsmtFinSF1', 'BsmtFinSF2',\n",
    "           'BsmtUnfSF', 'TotalBsmtSF', '1stFlrSF', '2ndFlrSF', 'LowQualFinSF', 'GrLivArea', 'BsmtFullBath', 'BsmtHalfBath',\n",
    "           'FullBath','HalfBath', 'BedroomAbvGr', 'KitchenAbvGr', 'TotRmsAbvGrd', 'Fireplaces', 'GarageYrBlt', \n",
    "           'GarageCars', 'GarageArea', 'WoodDeckSF', 'OpenPorchSF','EnclosedPorch', '3SsnPorch', 'ScreenPorch', 'PoolArea',\n",
    "           'MiscVal', 'MoSold', 'YrSold', 'SalePrice']\n",
    "print(len(number))"
   ]
  },
  {
   "cell_type": "markdown",
   "metadata": {},
   "source": [
    "# Question 2"
   ]
  },
  {
   "cell_type": "code",
   "execution_count": 4,
   "metadata": {},
   "outputs": [
    {
     "data": {
      "image/png": "[encoded data removed]",
      "text/plain": [
       "<Figure size 576x576 with 1 Axes>"
      ]
     },
     "metadata": {
      "needs_background": "light"
     },
     "output_type": "display_data"
    }
   ],
   "source": [
    "plt.figure(figsize=(8,8))\n",
    "plt.hist(df['SalePrice'])\n",
    "plt.xlabel('Sale Price',fontsize = 20)\n",
    "plt.ylabel('Amount', fontsize = 20)\n",
    "plt.title('Sale Price of the train set', fontsize = 20)\n",
    "plt.show()"
   ]
  },
  {
   "cell_type": "markdown",
   "metadata": {},
   "source": [
    "# Question 3"
   ]
  },
  {
   "cell_type": "code",
   "execution_count": 5,
   "metadata": {},
   "outputs": [
    {
     "name": "stderr",
     "output_type": "stream",
     "text": [
      "/Users/stephentang/anaconda3/lib/python3.7/site-packages/ipykernel_launcher.py:2: RuntimeWarning: More than 20 figures have been opened. Figures created through the pyplot interface (`matplotlib.pyplot.figure`) are retained until explicitly closed and may consume too much memory. (To control this warning, see the rcParam `figure.max_open_warning`).\n",
      "  \n",
      "/Users/stephentang/anaconda3/lib/python3.7/site-packages/ipykernel_launcher.py:2: RuntimeWarning: More than 20 figures have been opened. Figures created through the pyplot interface (`matplotlib.pyplot.figure`) are retained until explicitly closed and may consume too much memory. (To control this warning, see the rcParam `figure.max_open_warning`).\n",
      "  \n",
      "/Users/stephentang/anaconda3/lib/python3.7/site-packages/ipykernel_launcher.py:2: RuntimeWarning: More than 20 figures have been opened. Figures created through the pyplot interface (`matplotlib.pyplot.figure`) are retained until explicitly closed and may consume too much memory. (To control this warning, see the rcParam `figure.max_open_warning`).\n",
      "  \n",
      "/Users/stephentang/anaconda3/lib/python3.7/site-packages/ipykernel_launcher.py:2: RuntimeWarning: More than 20 figures have been opened. Figures created through the pyplot interface (`matplotlib.pyplot.figure`) are retained until explicitly closed and may consume too much memory. (To control this warning, see the rcParam `figure.max_open_warning`).\n",
      "  \n",
      "/Users/stephentang/anaconda3/lib/python3.7/site-packages/ipykernel_launcher.py:2: RuntimeWarning: More than 20 figures have been opened. Figures created through the pyplot interface (`matplotlib.pyplot.figure`) are retained until explicitly closed and may consume too much memory. (To control this warning, see the rcParam `figure.max_open_warning`).\n",
      "  \n",
      "/Users/stephentang/anaconda3/lib/python3.7/site-packages/ipykernel_launcher.py:2: RuntimeWarning: More than 20 figures have been opened. Figures created through the pyplot interface (`matplotlib.pyplot.figure`) are retained until explicitly closed and may consume too much memory. (To control this warning, see the rcParam `figure.max_open_warning`).\n",
      "  \n",
      "/Users/stephentang/anaconda3/lib/python3.7/site-packages/ipykernel_launcher.py:2: RuntimeWarning: More than 20 figures have been opened. Figures created through the pyplot interface (`matplotlib.pyplot.figure`) are retained until explicitly closed and may consume too much memory. (To control this warning, see the rcParam `figure.max_open_warning`).\n",
      "  \n",
      "/Users/stephentang/anaconda3/lib/python3.7/site-packages/ipykernel_launcher.py:2: RuntimeWarning: More than 20 figures have been opened. Figures created through the pyplot interface (`matplotlib.pyplot.figure`) are retained until explicitly closed and may consume too much memory. (To control this warning, see the rcParam `figure.max_open_warning`).\n",
      "  \n",
      "/Users/stephentang/anaconda3/lib/python3.7/site-packages/ipykernel_launcher.py:2: RuntimeWarning: More than 20 figures have been opened. Figures created through the pyplot interface (`matplotlib.pyplot.figure`) are retained until explicitly closed and may consume too much memory. (To control this warning, see the rcParam `figure.max_open_warning`).\n",
      "  \n",
      "/Users/stephentang/anaconda3/lib/python3.7/site-packages/ipykernel_launcher.py:2: RuntimeWarning: More than 20 figures have been opened. Figures created through the pyplot interface (`matplotlib.pyplot.figure`) are retained until explicitly closed and may consume too much memory. (To control this warning, see the rcParam `figure.max_open_warning`).\n",
      "  \n",
      "/Users/stephentang/anaconda3/lib/python3.7/site-packages/ipykernel_launcher.py:2: RuntimeWarning: More than 20 figures have been opened. Figures created through the pyplot interface (`matplotlib.pyplot.figure`) are retained until explicitly closed and may consume too much memory. (To control this warning, see the rcParam `figure.max_open_warning`).\n",
      "  \n",
      "/Users/stephentang/anaconda3/lib/python3.7/site-packages/ipykernel_launcher.py:2: RuntimeWarning: More than 20 figures have been opened. Figures created through the pyplot interface (`matplotlib.pyplot.figure`) are retained until explicitly closed and may consume too much memory. (To control this warning, see the rcParam `figure.max_open_warning`).\n",
      "  \n",
      "/Users/stephentang/anaconda3/lib/python3.7/site-packages/ipykernel_launcher.py:2: RuntimeWarning: More than 20 figures have been opened. Figures created through the pyplot interface (`matplotlib.pyplot.figure`) are retained until explicitly closed and may consume too much memory. (To control this warning, see the rcParam `figure.max_open_warning`).\n",
      "  \n",
      "/Users/stephentang/anaconda3/lib/python3.7/site-packages/ipykernel_launcher.py:2: RuntimeWarning: More than 20 figures have been opened. Figures created through the pyplot interface (`matplotlib.pyplot.figure`) are retained until explicitly closed and may consume too much memory. (To control this warning, see the rcParam `figure.max_open_warning`).\n",
      "  \n"
     ]
    },
    {
     "data": {
      "image/png": "[encoded data removed]",
      "text/plain": [
       "<Figure size 432x288 with 1 Axes>"
      ]
     },
     "metadata": {
      "needs_background": "light"
     },
     "output_type": "display_data"
    },
    {
     "data": {
      "image/png": "[encoded data removed]",
      "text/plain": [
       "<Figure size 432x288 with 1 Axes>"
      ]
     },
     "metadata": {
      "needs_background": "light"
     },
     "output_type": "display_data"
    },
    {
     "data": {
      "image/png": "[encoded data removed]",
      "text/plain": [
       "<Figure size 432x288 with 1 Axes>"
      ]
     },
     "metadata": {
      "needs_background": "light"
     },
     "output_type": "display_data"
    },
    {
     "data": {
      "image/png": "[encoded data removed]",
      "text/plain": [
       "<Figure size 432x288 with 1 Axes>"
      ]
     },
     "metadata": {
      "needs_background": "light"
     },
     "output_type": "display_data"
    },
    {
     "data": {
      "image/png": "[encoded data removed]",
      "text/plain": [
       "<Figure size 432x288 with 1 Axes>"
      ]
     },
     "metadata": {
      "needs_background": "light"
     },
     "output_type": "display_data"
    },
    {
     "data": {
      "image/png": "[encoded data removed]",
      "text/plain": [
       "<Figure size 432x288 with 1 Axes>"
      ]
     },
     "metadata": {
      "needs_background": "light"
     },
     "output_type": "display_data"
    },
    {
     "data": {
      "image/png": "[encoded data removed]",
      "text/plain": [
       "<Figure size 432x288 with 1 Axes>"
      ]
     },
     "metadata": {
      "needs_background": "light"
     },
     "output_type": "display_data"
    },
    {
     "data": {
      "image/png": "[encoded data removed]",
      "text/plain": [
       "<Figure size 432x288 with 1 Axes>"
      ]
     },
     "metadata": {
      "needs_background": "light"
     },
     "output_type": "display_data"
    },
    {
     "data": {
      "image/png": "[encoded data removed]",
      "text/plain": [
       "<Figure size 432x288 with 1 Axes>"
      ]
     },
     "metadata": {
      "needs_background": "light"
     },
     "output_type": "display_data"
    },
    {
     "data": {
      "image/png": "[encoded data removed]",
      "text/plain": [
       "<Figure size 432x288 with 1 Axes>"
      ]
     },
     "metadata": {
      "needs_background": "light"
     },
     "output_type": "display_data"
    },
    {
     "data": {
      "image/png": "[encoded data removed]",
      "text/plain": [
       "<Figure size 432x288 with 1 Axes>"
      ]
     },
     "metadata": {
      "needs_background": "light"
     },
     "output_type": "display_data"
    },
    {
     "data": {
      "image/png": "[encoded data removed]",
      "text/plain": [
       "<Figure size 432x288 with 1 Axes>"
      ]
     },
     "metadata": {
      "needs_background": "light"
     },
     "output_type": "display_data"
    },
    {
     "data": {
      "image/png": "[encoded data removed]",
      "text/plain": [
       "<Figure size 432x288 with 1 Axes>"
      ]
     },
     "metadata": {
      "needs_background": "light"
     },
     "output_type": "display_data"
    },
    {
     "data": {
      "image/png": "[encoded data removed]",
      "text/plain": [
       "<Figure size 432x288 with 1 Axes>"
      ]
     },
     "metadata": {
      "needs_background": "light"
     },
     "output_type": "display_data"
    },
    {
     "data": {
      "image/png": "[encoded data removed]",
      "text/plain": [
       "<Figure size 432x288 with 1 Axes>"
      ]
     },
     "metadata": {
      "needs_background": "light"
     },
     "output_type": "display_data"
    },
    {
     "data": {
      "image/png": "[encoded data removed]",
      "text/plain": [
       "<Figure size 432x288 with 1 Axes>"
      ]
     },
     "metadata": {
      "needs_background": "light"
     },
     "output_type": "display_data"
    },
    {
     "data": {
      "image/png": "[encoded data removed]",
      "text/plain": [
       "<Figure size 432x288 with 1 Axes>"
      ]
     },
     "metadata": {
      "needs_background": "light"
     },
     "output_type": "display_data"
    },
    {
     "data": {
      "image/png": "[encoded data removed]",
      "text/plain": [
       "<Figure size 432x288 with 1 Axes>"
      ]
     },
     "metadata": {
      "needs_background": "light"
     },
     "output_type": "display_data"
    },
    {
     "data": {
      "image/png": "[encoded data removed]",
      "text/plain": [
       "<Figure size 432x288 with 1 Axes>"
      ]
     },
     "metadata": {
      "needs_background": "light"
     },
     "output_type": "display_data"
    },
    {
     "data": {
      "image/png": "[encoded data removed]",
      "text/plain": [
       "<Figure size 432x288 with 1 Axes>"
      ]
     },
     "metadata": {
      "needs_background": "light"
     },
     "output_type": "display_data"
    },
    {
     "data": {
      "image/png": "[encoded data removed]",
      "text/plain": [
       "<Figure size 432x288 with 1 Axes>"
      ]
     },
     "metadata": {
      "needs_background": "light"
     },
     "output_type": "display_data"
    },
    {
     "data": {
      "image/png": "[encoded data removed]",
      "text/plain": [
       "<Figure size 432x288 with 1 Axes>"
      ]
     },
     "metadata": {
      "needs_background": "light"
     },
     "output_type": "display_data"
    },
    {
     "data": {
      "image/png": "[encoded data removed]",
      "text/plain": [
       "<Figure size 432x288 with 1 Axes>"
      ]
     },
     "metadata": {
      "needs_background": "light"
     },
     "output_type": "display_data"
    },
    {
     "data": {
      "image/png": "[encoded data removed]",
      "text/plain": [
       "<Figure size 432x288 with 1 Axes>"
      ]
     },
     "metadata": {
      "needs_background": "light"
     },
     "output_type": "display_data"
    },
    {
     "data": {
      "image/png": "[encoded data removed]",
      "text/plain": [
       "<Figure size 432x288 with 1 Axes>"
      ]
     },
     "metadata": {
      "needs_background": "light"
     },
     "output_type": "display_data"
    },
    {
     "data": {
      "image/png": "[encoded data removed]",
      "text/plain": [
       "<Figure size 432x288 with 1 Axes>"
      ]
     },
     "metadata": {
      "needs_background": "light"
     },
     "output_type": "display_data"
    },
    {
     "data": {
      "image/png": "[encoded data removed]",
      "text/plain": [
       "<Figure size 432x288 with 1 Axes>"
      ]
     },
     "metadata": {
      "needs_background": "light"
     },
     "output_type": "display_data"
    },
    {
     "data": {
      "image/png": "[encoded data removed]",
      "text/plain": [
       "<Figure size 432x288 with 1 Axes>"
      ]
     },
     "metadata": {
      "needs_background": "light"
     },
     "output_type": "display_data"
    },
    {
     "data": {
      "image/png": "[encoded data removed]",
      "text/plain": [
       "<Figure size 432x288 with 1 Axes>"
      ]
     },
     "metadata": {
      "needs_background": "light"
     },
     "output_type": "display_data"
    },
    {
     "data": {
      "image/png": "[encoded data removed]",
      "text/plain": [
       "<Figure size 432x288 with 1 Axes>"
      ]
     },
     "metadata": {
      "needs_background": "light"
     },
     "output_type": "display_data"
    },
    {
     "data": {
      "image/png": "[encoded data removed]",
      "text/plain": [
       "<Figure size 432x288 with 1 Axes>"
      ]
     },
     "metadata": {
      "needs_background": "light"
     },
     "output_type": "display_data"
    },
    {
     "data": {
      "image/png": "[encoded data removed]",
      "text/plain": [
       "<Figure size 432x288 with 1 Axes>"
      ]
     },
     "metadata": {
      "needs_background": "light"
     },
     "output_type": "display_data"
    },
    {
     "data": {
      "image/png": "[encoded data removed]",
      "text/plain": [
       "<Figure size 432x288 with 1 Axes>"
      ]
     },
     "metadata": {
      "needs_background": "light"
     },
     "output_type": "display_data"
    },
    {
     "data": {
      "image/png": "[encoded data removed]",
      "text/plain": [
       "<Figure size 432x288 with 1 Axes>"
      ]
     },
     "metadata": {
      "needs_background": "light"
     },
     "output_type": "display_data"
    }
   ],
   "source": [
    "for num in number:\n",
    "    plt.figure()\n",
    "    sns.boxplot(df[num])"
   ]
  },
  {
   "cell_type": "markdown",
   "metadata": {},
   "source": [
    "# Question 4"
   ]
  },
  {
   "cell_type": "code",
   "execution_count": 6,
   "metadata": {},
   "outputs": [
    {
     "name": "stdout",
     "output_type": "stream",
     "text": [
      "841\n"
     ]
    }
   ],
   "source": [
    "new_df1 = df[number]\n",
    "Q1 = new_df1.quantile(.25)\n",
    "Q3 = new_df1.quantile(.75)\n",
    "IQR = Q3 - Q1\n",
    "test1 = new_df1 < (Q1 - 1.5 * IQR)\n",
    "test2 = new_df1 > (Q3 + 1.5 * IQR)\n",
    "index_to_be_dropped = new_df1[(test1 | test2).any(axis=1)].index\n",
    "new_df1 = new_df1.drop(index_to_be_dropped, axis=0)\n",
    "x, _ = np.shape(df)\n",
    "a, _ = np.shape(new_df1)\n",
    "number_of_rows_removed = x - a\n",
    "print(number_of_rows_removed)"
   ]
  },
  {
   "cell_type": "code",
   "execution_count": 7,
   "metadata": {
    "scrolled": true
   },
   "outputs": [
    {
     "data": {
      "text/html": [
       "<div>\n",
       "<style scoped>\n",
       "    .dataframe tbody tr th:only-of-type {\n",
       "        vertical-align: middle;\n",
       "    }\n",
       "\n",
       "    .dataframe tbody tr th {\n",
       "        vertical-align: top;\n",
       "    }\n",
       "\n",
       "    .dataframe thead th {\n",
       "        text-align: right;\n",
       "    }\n",
       "</style>\n",
       "<table border=\"1\" class=\"dataframe\">\n",
       "  <thead>\n",
       "    <tr style=\"text-align: right;\">\n",
       "      <th></th>\n",
       "      <th>LotFrontage</th>\n",
       "      <th>LotArea</th>\n",
       "      <th>YearBuilt</th>\n",
       "      <th>YearRemodAdd</th>\n",
       "      <th>MasVnrArea</th>\n",
       "      <th>BsmtFinSF1</th>\n",
       "      <th>BsmtFinSF2</th>\n",
       "      <th>BsmtUnfSF</th>\n",
       "      <th>TotalBsmtSF</th>\n",
       "      <th>1stFlrSF</th>\n",
       "      <th>...</th>\n",
       "      <th>WoodDeckSF</th>\n",
       "      <th>OpenPorchSF</th>\n",
       "      <th>EnclosedPorch</th>\n",
       "      <th>3SsnPorch</th>\n",
       "      <th>ScreenPorch</th>\n",
       "      <th>PoolArea</th>\n",
       "      <th>MiscVal</th>\n",
       "      <th>MoSold</th>\n",
       "      <th>YrSold</th>\n",
       "      <th>SalePrice</th>\n",
       "    </tr>\n",
       "  </thead>\n",
       "  <tbody>\n",
       "    <tr>\n",
       "      <th>0</th>\n",
       "      <td>65.0</td>\n",
       "      <td>8450</td>\n",
       "      <td>2003</td>\n",
       "      <td>2003</td>\n",
       "      <td>196.0</td>\n",
       "      <td>706</td>\n",
       "      <td>0</td>\n",
       "      <td>150</td>\n",
       "      <td>856</td>\n",
       "      <td>856</td>\n",
       "      <td>...</td>\n",
       "      <td>0</td>\n",
       "      <td>61</td>\n",
       "      <td>0</td>\n",
       "      <td>0</td>\n",
       "      <td>0</td>\n",
       "      <td>0</td>\n",
       "      <td>0</td>\n",
       "      <td>2</td>\n",
       "      <td>2008</td>\n",
       "      <td>208500</td>\n",
       "    </tr>\n",
       "    <tr>\n",
       "      <th>2</th>\n",
       "      <td>68.0</td>\n",
       "      <td>11250</td>\n",
       "      <td>2001</td>\n",
       "      <td>2002</td>\n",
       "      <td>162.0</td>\n",
       "      <td>486</td>\n",
       "      <td>0</td>\n",
       "      <td>434</td>\n",
       "      <td>920</td>\n",
       "      <td>920</td>\n",
       "      <td>...</td>\n",
       "      <td>0</td>\n",
       "      <td>42</td>\n",
       "      <td>0</td>\n",
       "      <td>0</td>\n",
       "      <td>0</td>\n",
       "      <td>0</td>\n",
       "      <td>0</td>\n",
       "      <td>9</td>\n",
       "      <td>2008</td>\n",
       "      <td>223500</td>\n",
       "    </tr>\n",
       "    <tr>\n",
       "      <th>4</th>\n",
       "      <td>84.0</td>\n",
       "      <td>14260</td>\n",
       "      <td>2000</td>\n",
       "      <td>2000</td>\n",
       "      <td>350.0</td>\n",
       "      <td>655</td>\n",
       "      <td>0</td>\n",
       "      <td>490</td>\n",
       "      <td>1145</td>\n",
       "      <td>1145</td>\n",
       "      <td>...</td>\n",
       "      <td>192</td>\n",
       "      <td>84</td>\n",
       "      <td>0</td>\n",
       "      <td>0</td>\n",
       "      <td>0</td>\n",
       "      <td>0</td>\n",
       "      <td>0</td>\n",
       "      <td>12</td>\n",
       "      <td>2008</td>\n",
       "      <td>250000</td>\n",
       "    </tr>\n",
       "    <tr>\n",
       "      <th>6</th>\n",
       "      <td>75.0</td>\n",
       "      <td>10084</td>\n",
       "      <td>2004</td>\n",
       "      <td>2005</td>\n",
       "      <td>186.0</td>\n",
       "      <td>1369</td>\n",
       "      <td>0</td>\n",
       "      <td>317</td>\n",
       "      <td>1686</td>\n",
       "      <td>1694</td>\n",
       "      <td>...</td>\n",
       "      <td>255</td>\n",
       "      <td>57</td>\n",
       "      <td>0</td>\n",
       "      <td>0</td>\n",
       "      <td>0</td>\n",
       "      <td>0</td>\n",
       "      <td>0</td>\n",
       "      <td>8</td>\n",
       "      <td>2007</td>\n",
       "      <td>307000</td>\n",
       "    </tr>\n",
       "    <tr>\n",
       "      <th>10</th>\n",
       "      <td>70.0</td>\n",
       "      <td>11200</td>\n",
       "      <td>1965</td>\n",
       "      <td>1965</td>\n",
       "      <td>0.0</td>\n",
       "      <td>906</td>\n",
       "      <td>0</td>\n",
       "      <td>134</td>\n",
       "      <td>1040</td>\n",
       "      <td>1040</td>\n",
       "      <td>...</td>\n",
       "      <td>0</td>\n",
       "      <td>0</td>\n",
       "      <td>0</td>\n",
       "      <td>0</td>\n",
       "      <td>0</td>\n",
       "      <td>0</td>\n",
       "      <td>0</td>\n",
       "      <td>2</td>\n",
       "      <td>2008</td>\n",
       "      <td>129500</td>\n",
       "    </tr>\n",
       "    <tr>\n",
       "      <th>13</th>\n",
       "      <td>91.0</td>\n",
       "      <td>10652</td>\n",
       "      <td>2006</td>\n",
       "      <td>2007</td>\n",
       "      <td>306.0</td>\n",
       "      <td>0</td>\n",
       "      <td>0</td>\n",
       "      <td>1494</td>\n",
       "      <td>1494</td>\n",
       "      <td>1494</td>\n",
       "      <td>...</td>\n",
       "      <td>160</td>\n",
       "      <td>33</td>\n",
       "      <td>0</td>\n",
       "      <td>0</td>\n",
       "      <td>0</td>\n",
       "      <td>0</td>\n",
       "      <td>0</td>\n",
       "      <td>8</td>\n",
       "      <td>2007</td>\n",
       "      <td>279500</td>\n",
       "    </tr>\n",
       "    <tr>\n",
       "      <th>15</th>\n",
       "      <td>51.0</td>\n",
       "      <td>6120</td>\n",
       "      <td>1929</td>\n",
       "      <td>2001</td>\n",
       "      <td>0.0</td>\n",
       "      <td>0</td>\n",
       "      <td>0</td>\n",
       "      <td>832</td>\n",
       "      <td>832</td>\n",
       "      <td>854</td>\n",
       "      <td>...</td>\n",
       "      <td>48</td>\n",
       "      <td>112</td>\n",
       "      <td>0</td>\n",
       "      <td>0</td>\n",
       "      <td>0</td>\n",
       "      <td>0</td>\n",
       "      <td>0</td>\n",
       "      <td>7</td>\n",
       "      <td>2007</td>\n",
       "      <td>132000</td>\n",
       "    </tr>\n",
       "    <tr>\n",
       "      <th>18</th>\n",
       "      <td>66.0</td>\n",
       "      <td>13695</td>\n",
       "      <td>2004</td>\n",
       "      <td>2004</td>\n",
       "      <td>0.0</td>\n",
       "      <td>646</td>\n",
       "      <td>0</td>\n",
       "      <td>468</td>\n",
       "      <td>1114</td>\n",
       "      <td>1114</td>\n",
       "      <td>...</td>\n",
       "      <td>0</td>\n",
       "      <td>102</td>\n",
       "      <td>0</td>\n",
       "      <td>0</td>\n",
       "      <td>0</td>\n",
       "      <td>0</td>\n",
       "      <td>0</td>\n",
       "      <td>6</td>\n",
       "      <td>2008</td>\n",
       "      <td>159000</td>\n",
       "    </tr>\n",
       "    <tr>\n",
       "      <th>19</th>\n",
       "      <td>70.0</td>\n",
       "      <td>7560</td>\n",
       "      <td>1958</td>\n",
       "      <td>1965</td>\n",
       "      <td>0.0</td>\n",
       "      <td>504</td>\n",
       "      <td>0</td>\n",
       "      <td>525</td>\n",
       "      <td>1029</td>\n",
       "      <td>1339</td>\n",
       "      <td>...</td>\n",
       "      <td>0</td>\n",
       "      <td>0</td>\n",
       "      <td>0</td>\n",
       "      <td>0</td>\n",
       "      <td>0</td>\n",
       "      <td>0</td>\n",
       "      <td>0</td>\n",
       "      <td>5</td>\n",
       "      <td>2009</td>\n",
       "      <td>139000</td>\n",
       "    </tr>\n",
       "    <tr>\n",
       "      <th>20</th>\n",
       "      <td>101.0</td>\n",
       "      <td>14215</td>\n",
       "      <td>2005</td>\n",
       "      <td>2006</td>\n",
       "      <td>380.0</td>\n",
       "      <td>0</td>\n",
       "      <td>0</td>\n",
       "      <td>1158</td>\n",
       "      <td>1158</td>\n",
       "      <td>1158</td>\n",
       "      <td>...</td>\n",
       "      <td>240</td>\n",
       "      <td>154</td>\n",
       "      <td>0</td>\n",
       "      <td>0</td>\n",
       "      <td>0</td>\n",
       "      <td>0</td>\n",
       "      <td>0</td>\n",
       "      <td>11</td>\n",
       "      <td>2006</td>\n",
       "      <td>325300</td>\n",
       "    </tr>\n",
       "    <tr>\n",
       "      <th>23</th>\n",
       "      <td>44.0</td>\n",
       "      <td>4224</td>\n",
       "      <td>1976</td>\n",
       "      <td>1976</td>\n",
       "      <td>0.0</td>\n",
       "      <td>840</td>\n",
       "      <td>0</td>\n",
       "      <td>200</td>\n",
       "      <td>1040</td>\n",
       "      <td>1060</td>\n",
       "      <td>...</td>\n",
       "      <td>100</td>\n",
       "      <td>110</td>\n",
       "      <td>0</td>\n",
       "      <td>0</td>\n",
       "      <td>0</td>\n",
       "      <td>0</td>\n",
       "      <td>0</td>\n",
       "      <td>6</td>\n",
       "      <td>2007</td>\n",
       "      <td>129900</td>\n",
       "    </tr>\n",
       "    <tr>\n",
       "      <th>27</th>\n",
       "      <td>98.0</td>\n",
       "      <td>11478</td>\n",
       "      <td>2007</td>\n",
       "      <td>2008</td>\n",
       "      <td>200.0</td>\n",
       "      <td>1218</td>\n",
       "      <td>0</td>\n",
       "      <td>486</td>\n",
       "      <td>1704</td>\n",
       "      <td>1704</td>\n",
       "      <td>...</td>\n",
       "      <td>0</td>\n",
       "      <td>50</td>\n",
       "      <td>0</td>\n",
       "      <td>0</td>\n",
       "      <td>0</td>\n",
       "      <td>0</td>\n",
       "      <td>0</td>\n",
       "      <td>5</td>\n",
       "      <td>2010</td>\n",
       "      <td>306000</td>\n",
       "    </tr>\n",
       "    <tr>\n",
       "      <th>31</th>\n",
       "      <td>NaN</td>\n",
       "      <td>8544</td>\n",
       "      <td>1966</td>\n",
       "      <td>2006</td>\n",
       "      <td>0.0</td>\n",
       "      <td>0</td>\n",
       "      <td>0</td>\n",
       "      <td>1228</td>\n",
       "      <td>1228</td>\n",
       "      <td>1228</td>\n",
       "      <td>...</td>\n",
       "      <td>0</td>\n",
       "      <td>65</td>\n",
       "      <td>0</td>\n",
       "      <td>0</td>\n",
       "      <td>0</td>\n",
       "      <td>0</td>\n",
       "      <td>0</td>\n",
       "      <td>6</td>\n",
       "      <td>2008</td>\n",
       "      <td>149350</td>\n",
       "    </tr>\n",
       "    <tr>\n",
       "      <th>32</th>\n",
       "      <td>85.0</td>\n",
       "      <td>11049</td>\n",
       "      <td>2007</td>\n",
       "      <td>2007</td>\n",
       "      <td>0.0</td>\n",
       "      <td>0</td>\n",
       "      <td>0</td>\n",
       "      <td>1234</td>\n",
       "      <td>1234</td>\n",
       "      <td>1234</td>\n",
       "      <td>...</td>\n",
       "      <td>0</td>\n",
       "      <td>30</td>\n",
       "      <td>0</td>\n",
       "      <td>0</td>\n",
       "      <td>0</td>\n",
       "      <td>0</td>\n",
       "      <td>0</td>\n",
       "      <td>1</td>\n",
       "      <td>2008</td>\n",
       "      <td>179900</td>\n",
       "    </tr>\n",
       "    <tr>\n",
       "      <th>34</th>\n",
       "      <td>60.0</td>\n",
       "      <td>7313</td>\n",
       "      <td>2005</td>\n",
       "      <td>2005</td>\n",
       "      <td>246.0</td>\n",
       "      <td>1153</td>\n",
       "      <td>0</td>\n",
       "      <td>408</td>\n",
       "      <td>1561</td>\n",
       "      <td>1561</td>\n",
       "      <td>...</td>\n",
       "      <td>203</td>\n",
       "      <td>47</td>\n",
       "      <td>0</td>\n",
       "      <td>0</td>\n",
       "      <td>0</td>\n",
       "      <td>0</td>\n",
       "      <td>0</td>\n",
       "      <td>8</td>\n",
       "      <td>2007</td>\n",
       "      <td>277500</td>\n",
       "    </tr>\n",
       "    <tr>\n",
       "      <th>35</th>\n",
       "      <td>108.0</td>\n",
       "      <td>13418</td>\n",
       "      <td>2004</td>\n",
       "      <td>2005</td>\n",
       "      <td>132.0</td>\n",
       "      <td>0</td>\n",
       "      <td>0</td>\n",
       "      <td>1117</td>\n",
       "      <td>1117</td>\n",
       "      <td>1132</td>\n",
       "      <td>...</td>\n",
       "      <td>113</td>\n",
       "      <td>32</td>\n",
       "      <td>0</td>\n",
       "      <td>0</td>\n",
       "      <td>0</td>\n",
       "      <td>0</td>\n",
       "      <td>0</td>\n",
       "      <td>9</td>\n",
       "      <td>2006</td>\n",
       "      <td>309000</td>\n",
       "    </tr>\n",
       "    <tr>\n",
       "      <th>38</th>\n",
       "      <td>68.0</td>\n",
       "      <td>7922</td>\n",
       "      <td>1953</td>\n",
       "      <td>2007</td>\n",
       "      <td>0.0</td>\n",
       "      <td>731</td>\n",
       "      <td>0</td>\n",
       "      <td>326</td>\n",
       "      <td>1057</td>\n",
       "      <td>1057</td>\n",
       "      <td>...</td>\n",
       "      <td>0</td>\n",
       "      <td>52</td>\n",
       "      <td>0</td>\n",
       "      <td>0</td>\n",
       "      <td>0</td>\n",
       "      <td>0</td>\n",
       "      <td>0</td>\n",
       "      <td>1</td>\n",
       "      <td>2010</td>\n",
       "      <td>109000</td>\n",
       "    </tr>\n",
       "    <tr>\n",
       "      <th>40</th>\n",
       "      <td>84.0</td>\n",
       "      <td>8658</td>\n",
       "      <td>1965</td>\n",
       "      <td>1965</td>\n",
       "      <td>101.0</td>\n",
       "      <td>643</td>\n",
       "      <td>0</td>\n",
       "      <td>445</td>\n",
       "      <td>1088</td>\n",
       "      <td>1324</td>\n",
       "      <td>...</td>\n",
       "      <td>0</td>\n",
       "      <td>138</td>\n",
       "      <td>0</td>\n",
       "      <td>0</td>\n",
       "      <td>0</td>\n",
       "      <td>0</td>\n",
       "      <td>0</td>\n",
       "      <td>12</td>\n",
       "      <td>2006</td>\n",
       "      <td>160000</td>\n",
       "    </tr>\n",
       "    <tr>\n",
       "      <th>45</th>\n",
       "      <td>61.0</td>\n",
       "      <td>7658</td>\n",
       "      <td>2005</td>\n",
       "      <td>2005</td>\n",
       "      <td>412.0</td>\n",
       "      <td>456</td>\n",
       "      <td>0</td>\n",
       "      <td>1296</td>\n",
       "      <td>1752</td>\n",
       "      <td>1752</td>\n",
       "      <td>...</td>\n",
       "      <td>196</td>\n",
       "      <td>82</td>\n",
       "      <td>0</td>\n",
       "      <td>0</td>\n",
       "      <td>0</td>\n",
       "      <td>0</td>\n",
       "      <td>0</td>\n",
       "      <td>2</td>\n",
       "      <td>2010</td>\n",
       "      <td>319900</td>\n",
       "    </tr>\n",
       "    <tr>\n",
       "      <th>47</th>\n",
       "      <td>84.0</td>\n",
       "      <td>11096</td>\n",
       "      <td>2006</td>\n",
       "      <td>2006</td>\n",
       "      <td>0.0</td>\n",
       "      <td>24</td>\n",
       "      <td>0</td>\n",
       "      <td>1632</td>\n",
       "      <td>1656</td>\n",
       "      <td>1656</td>\n",
       "      <td>...</td>\n",
       "      <td>0</td>\n",
       "      <td>146</td>\n",
       "      <td>0</td>\n",
       "      <td>0</td>\n",
       "      <td>0</td>\n",
       "      <td>0</td>\n",
       "      <td>0</td>\n",
       "      <td>7</td>\n",
       "      <td>2007</td>\n",
       "      <td>249700</td>\n",
       "    </tr>\n",
       "    <tr>\n",
       "      <th>49</th>\n",
       "      <td>66.0</td>\n",
       "      <td>7742</td>\n",
       "      <td>1966</td>\n",
       "      <td>1966</td>\n",
       "      <td>0.0</td>\n",
       "      <td>763</td>\n",
       "      <td>0</td>\n",
       "      <td>192</td>\n",
       "      <td>955</td>\n",
       "      <td>955</td>\n",
       "      <td>...</td>\n",
       "      <td>0</td>\n",
       "      <td>0</td>\n",
       "      <td>0</td>\n",
       "      <td>0</td>\n",
       "      <td>0</td>\n",
       "      <td>0</td>\n",
       "      <td>0</td>\n",
       "      <td>1</td>\n",
       "      <td>2007</td>\n",
       "      <td>127000</td>\n",
       "    </tr>\n",
       "    <tr>\n",
       "      <th>54</th>\n",
       "      <td>60.0</td>\n",
       "      <td>7134</td>\n",
       "      <td>1955</td>\n",
       "      <td>1955</td>\n",
       "      <td>0.0</td>\n",
       "      <td>384</td>\n",
       "      <td>0</td>\n",
       "      <td>0</td>\n",
       "      <td>384</td>\n",
       "      <td>1360</td>\n",
       "      <td>...</td>\n",
       "      <td>0</td>\n",
       "      <td>50</td>\n",
       "      <td>0</td>\n",
       "      <td>0</td>\n",
       "      <td>0</td>\n",
       "      <td>0</td>\n",
       "      <td>0</td>\n",
       "      <td>2</td>\n",
       "      <td>2007</td>\n",
       "      <td>130000</td>\n",
       "    </tr>\n",
       "    <tr>\n",
       "      <th>57</th>\n",
       "      <td>89.0</td>\n",
       "      <td>11645</td>\n",
       "      <td>2004</td>\n",
       "      <td>2004</td>\n",
       "      <td>0.0</td>\n",
       "      <td>0</td>\n",
       "      <td>0</td>\n",
       "      <td>860</td>\n",
       "      <td>860</td>\n",
       "      <td>860</td>\n",
       "      <td>...</td>\n",
       "      <td>0</td>\n",
       "      <td>70</td>\n",
       "      <td>0</td>\n",
       "      <td>0</td>\n",
       "      <td>0</td>\n",
       "      <td>0</td>\n",
       "      <td>0</td>\n",
       "      <td>8</td>\n",
       "      <td>2006</td>\n",
       "      <td>196500</td>\n",
       "    </tr>\n",
       "    <tr>\n",
       "      <th>59</th>\n",
       "      <td>60.0</td>\n",
       "      <td>7200</td>\n",
       "      <td>1972</td>\n",
       "      <td>1972</td>\n",
       "      <td>0.0</td>\n",
       "      <td>632</td>\n",
       "      <td>0</td>\n",
       "      <td>148</td>\n",
       "      <td>780</td>\n",
       "      <td>780</td>\n",
       "      <td>...</td>\n",
       "      <td>196</td>\n",
       "      <td>0</td>\n",
       "      <td>0</td>\n",
       "      <td>0</td>\n",
       "      <td>0</td>\n",
       "      <td>0</td>\n",
       "      <td>0</td>\n",
       "      <td>1</td>\n",
       "      <td>2008</td>\n",
       "      <td>124900</td>\n",
       "    </tr>\n",
       "    <tr>\n",
       "      <th>60</th>\n",
       "      <td>63.0</td>\n",
       "      <td>13072</td>\n",
       "      <td>2004</td>\n",
       "      <td>2004</td>\n",
       "      <td>0.0</td>\n",
       "      <td>941</td>\n",
       "      <td>0</td>\n",
       "      <td>217</td>\n",
       "      <td>1158</td>\n",
       "      <td>1158</td>\n",
       "      <td>...</td>\n",
       "      <td>0</td>\n",
       "      <td>50</td>\n",
       "      <td>0</td>\n",
       "      <td>0</td>\n",
       "      <td>0</td>\n",
       "      <td>0</td>\n",
       "      <td>0</td>\n",
       "      <td>5</td>\n",
       "      <td>2006</td>\n",
       "      <td>158000</td>\n",
       "    </tr>\n",
       "    <tr>\n",
       "      <th>62</th>\n",
       "      <td>44.0</td>\n",
       "      <td>6442</td>\n",
       "      <td>2006</td>\n",
       "      <td>2006</td>\n",
       "      <td>178.0</td>\n",
       "      <td>24</td>\n",
       "      <td>0</td>\n",
       "      <td>1346</td>\n",
       "      <td>1370</td>\n",
       "      <td>1370</td>\n",
       "      <td>...</td>\n",
       "      <td>120</td>\n",
       "      <td>49</td>\n",
       "      <td>0</td>\n",
       "      <td>0</td>\n",
       "      <td>0</td>\n",
       "      <td>0</td>\n",
       "      <td>0</td>\n",
       "      <td>10</td>\n",
       "      <td>2007</td>\n",
       "      <td>202500</td>\n",
       "    </tr>\n",
       "    <tr>\n",
       "      <th>65</th>\n",
       "      <td>76.0</td>\n",
       "      <td>9591</td>\n",
       "      <td>2004</td>\n",
       "      <td>2005</td>\n",
       "      <td>344.0</td>\n",
       "      <td>0</td>\n",
       "      <td>0</td>\n",
       "      <td>1143</td>\n",
       "      <td>1143</td>\n",
       "      <td>1143</td>\n",
       "      <td>...</td>\n",
       "      <td>192</td>\n",
       "      <td>151</td>\n",
       "      <td>0</td>\n",
       "      <td>0</td>\n",
       "      <td>0</td>\n",
       "      <td>0</td>\n",
       "      <td>0</td>\n",
       "      <td>10</td>\n",
       "      <td>2007</td>\n",
       "      <td>317000</td>\n",
       "    </tr>\n",
       "    <tr>\n",
       "      <th>67</th>\n",
       "      <td>72.0</td>\n",
       "      <td>10665</td>\n",
       "      <td>2003</td>\n",
       "      <td>2003</td>\n",
       "      <td>167.0</td>\n",
       "      <td>1013</td>\n",
       "      <td>0</td>\n",
       "      <td>440</td>\n",
       "      <td>1453</td>\n",
       "      <td>1479</td>\n",
       "      <td>...</td>\n",
       "      <td>144</td>\n",
       "      <td>29</td>\n",
       "      <td>0</td>\n",
       "      <td>0</td>\n",
       "      <td>0</td>\n",
       "      <td>0</td>\n",
       "      <td>0</td>\n",
       "      <td>6</td>\n",
       "      <td>2007</td>\n",
       "      <td>226000</td>\n",
       "    </tr>\n",
       "    <tr>\n",
       "      <th>68</th>\n",
       "      <td>47.0</td>\n",
       "      <td>4608</td>\n",
       "      <td>1945</td>\n",
       "      <td>1950</td>\n",
       "      <td>0.0</td>\n",
       "      <td>0</td>\n",
       "      <td>0</td>\n",
       "      <td>747</td>\n",
       "      <td>747</td>\n",
       "      <td>747</td>\n",
       "      <td>...</td>\n",
       "      <td>0</td>\n",
       "      <td>0</td>\n",
       "      <td>0</td>\n",
       "      <td>0</td>\n",
       "      <td>0</td>\n",
       "      <td>0</td>\n",
       "      <td>0</td>\n",
       "      <td>6</td>\n",
       "      <td>2010</td>\n",
       "      <td>80000</td>\n",
       "    </tr>\n",
       "    <tr>\n",
       "      <th>71</th>\n",
       "      <td>69.0</td>\n",
       "      <td>7599</td>\n",
       "      <td>1982</td>\n",
       "      <td>2006</td>\n",
       "      <td>0.0</td>\n",
       "      <td>565</td>\n",
       "      <td>0</td>\n",
       "      <td>280</td>\n",
       "      <td>845</td>\n",
       "      <td>845</td>\n",
       "      <td>...</td>\n",
       "      <td>0</td>\n",
       "      <td>0</td>\n",
       "      <td>0</td>\n",
       "      <td>0</td>\n",
       "      <td>0</td>\n",
       "      <td>0</td>\n",
       "      <td>0</td>\n",
       "      <td>6</td>\n",
       "      <td>2007</td>\n",
       "      <td>129500</td>\n",
       "    </tr>\n",
       "    <tr>\n",
       "      <th>...</th>\n",
       "      <td>...</td>\n",
       "      <td>...</td>\n",
       "      <td>...</td>\n",
       "      <td>...</td>\n",
       "      <td>...</td>\n",
       "      <td>...</td>\n",
       "      <td>...</td>\n",
       "      <td>...</td>\n",
       "      <td>...</td>\n",
       "      <td>...</td>\n",
       "      <td>...</td>\n",
       "      <td>...</td>\n",
       "      <td>...</td>\n",
       "      <td>...</td>\n",
       "      <td>...</td>\n",
       "      <td>...</td>\n",
       "      <td>...</td>\n",
       "      <td>...</td>\n",
       "      <td>...</td>\n",
       "      <td>...</td>\n",
       "      <td>...</td>\n",
       "    </tr>\n",
       "    <tr>\n",
       "      <th>1392</th>\n",
       "      <td>68.0</td>\n",
       "      <td>7838</td>\n",
       "      <td>1967</td>\n",
       "      <td>1967</td>\n",
       "      <td>0.0</td>\n",
       "      <td>769</td>\n",
       "      <td>0</td>\n",
       "      <td>95</td>\n",
       "      <td>864</td>\n",
       "      <td>900</td>\n",
       "      <td>...</td>\n",
       "      <td>175</td>\n",
       "      <td>144</td>\n",
       "      <td>0</td>\n",
       "      <td>0</td>\n",
       "      <td>0</td>\n",
       "      <td>0</td>\n",
       "      <td>0</td>\n",
       "      <td>12</td>\n",
       "      <td>2006</td>\n",
       "      <td>123000</td>\n",
       "    </tr>\n",
       "    <tr>\n",
       "      <th>1394</th>\n",
       "      <td>53.0</td>\n",
       "      <td>4045</td>\n",
       "      <td>2006</td>\n",
       "      <td>2006</td>\n",
       "      <td>45.0</td>\n",
       "      <td>1070</td>\n",
       "      <td>0</td>\n",
       "      <td>286</td>\n",
       "      <td>1356</td>\n",
       "      <td>1500</td>\n",
       "      <td>...</td>\n",
       "      <td>161</td>\n",
       "      <td>20</td>\n",
       "      <td>0</td>\n",
       "      <td>0</td>\n",
       "      <td>0</td>\n",
       "      <td>0</td>\n",
       "      <td>0</td>\n",
       "      <td>10</td>\n",
       "      <td>2006</td>\n",
       "      <td>246578</td>\n",
       "    </tr>\n",
       "    <tr>\n",
       "      <th>1395</th>\n",
       "      <td>88.0</td>\n",
       "      <td>12665</td>\n",
       "      <td>2005</td>\n",
       "      <td>2006</td>\n",
       "      <td>245.0</td>\n",
       "      <td>0</td>\n",
       "      <td>0</td>\n",
       "      <td>1094</td>\n",
       "      <td>1094</td>\n",
       "      <td>1133</td>\n",
       "      <td>...</td>\n",
       "      <td>144</td>\n",
       "      <td>39</td>\n",
       "      <td>0</td>\n",
       "      <td>0</td>\n",
       "      <td>0</td>\n",
       "      <td>0</td>\n",
       "      <td>0</td>\n",
       "      <td>2</td>\n",
       "      <td>2007</td>\n",
       "      <td>281213</td>\n",
       "    </tr>\n",
       "    <tr>\n",
       "      <th>1399</th>\n",
       "      <td>51.0</td>\n",
       "      <td>6171</td>\n",
       "      <td>1925</td>\n",
       "      <td>1990</td>\n",
       "      <td>0.0</td>\n",
       "      <td>264</td>\n",
       "      <td>0</td>\n",
       "      <td>712</td>\n",
       "      <td>976</td>\n",
       "      <td>1160</td>\n",
       "      <td>...</td>\n",
       "      <td>147</td>\n",
       "      <td>16</td>\n",
       "      <td>0</td>\n",
       "      <td>0</td>\n",
       "      <td>0</td>\n",
       "      <td>0</td>\n",
       "      <td>0</td>\n",
       "      <td>10</td>\n",
       "      <td>2009</td>\n",
       "      <td>137450</td>\n",
       "    </tr>\n",
       "    <tr>\n",
       "      <th>1401</th>\n",
       "      <td>62.0</td>\n",
       "      <td>7415</td>\n",
       "      <td>2004</td>\n",
       "      <td>2004</td>\n",
       "      <td>0.0</td>\n",
       "      <td>759</td>\n",
       "      <td>0</td>\n",
       "      <td>80</td>\n",
       "      <td>839</td>\n",
       "      <td>864</td>\n",
       "      <td>...</td>\n",
       "      <td>100</td>\n",
       "      <td>75</td>\n",
       "      <td>0</td>\n",
       "      <td>0</td>\n",
       "      <td>0</td>\n",
       "      <td>0</td>\n",
       "      <td>0</td>\n",
       "      <td>4</td>\n",
       "      <td>2008</td>\n",
       "      <td>193000</td>\n",
       "    </tr>\n",
       "    <tr>\n",
       "      <th>1402</th>\n",
       "      <td>64.0</td>\n",
       "      <td>6762</td>\n",
       "      <td>2006</td>\n",
       "      <td>2006</td>\n",
       "      <td>0.0</td>\n",
       "      <td>0</td>\n",
       "      <td>0</td>\n",
       "      <td>1286</td>\n",
       "      <td>1286</td>\n",
       "      <td>1294</td>\n",
       "      <td>...</td>\n",
       "      <td>168</td>\n",
       "      <td>55</td>\n",
       "      <td>0</td>\n",
       "      <td>0</td>\n",
       "      <td>0</td>\n",
       "      <td>0</td>\n",
       "      <td>0</td>\n",
       "      <td>7</td>\n",
       "      <td>2006</td>\n",
       "      <td>193879</td>\n",
       "    </tr>\n",
       "    <tr>\n",
       "      <th>1403</th>\n",
       "      <td>49.0</td>\n",
       "      <td>15256</td>\n",
       "      <td>2007</td>\n",
       "      <td>2007</td>\n",
       "      <td>84.0</td>\n",
       "      <td>929</td>\n",
       "      <td>0</td>\n",
       "      <td>556</td>\n",
       "      <td>1485</td>\n",
       "      <td>1464</td>\n",
       "      <td>...</td>\n",
       "      <td>168</td>\n",
       "      <td>160</td>\n",
       "      <td>0</td>\n",
       "      <td>0</td>\n",
       "      <td>0</td>\n",
       "      <td>0</td>\n",
       "      <td>0</td>\n",
       "      <td>8</td>\n",
       "      <td>2007</td>\n",
       "      <td>282922</td>\n",
       "    </tr>\n",
       "    <tr>\n",
       "      <th>1406</th>\n",
       "      <td>70.0</td>\n",
       "      <td>8445</td>\n",
       "      <td>1972</td>\n",
       "      <td>2007</td>\n",
       "      <td>0.0</td>\n",
       "      <td>656</td>\n",
       "      <td>0</td>\n",
       "      <td>112</td>\n",
       "      <td>768</td>\n",
       "      <td>768</td>\n",
       "      <td>...</td>\n",
       "      <td>58</td>\n",
       "      <td>0</td>\n",
       "      <td>0</td>\n",
       "      <td>0</td>\n",
       "      <td>0</td>\n",
       "      <td>0</td>\n",
       "      <td>0</td>\n",
       "      <td>3</td>\n",
       "      <td>2009</td>\n",
       "      <td>133000</td>\n",
       "    </tr>\n",
       "    <tr>\n",
       "      <th>1407</th>\n",
       "      <td>NaN</td>\n",
       "      <td>8780</td>\n",
       "      <td>1985</td>\n",
       "      <td>1985</td>\n",
       "      <td>0.0</td>\n",
       "      <td>625</td>\n",
       "      <td>0</td>\n",
       "      <td>208</td>\n",
       "      <td>833</td>\n",
       "      <td>833</td>\n",
       "      <td>...</td>\n",
       "      <td>0</td>\n",
       "      <td>0</td>\n",
       "      <td>0</td>\n",
       "      <td>0</td>\n",
       "      <td>0</td>\n",
       "      <td>0</td>\n",
       "      <td>0</td>\n",
       "      <td>3</td>\n",
       "      <td>2009</td>\n",
       "      <td>112000</td>\n",
       "    </tr>\n",
       "    <tr>\n",
       "      <th>1410</th>\n",
       "      <td>79.0</td>\n",
       "      <td>12420</td>\n",
       "      <td>2001</td>\n",
       "      <td>2001</td>\n",
       "      <td>0.0</td>\n",
       "      <td>666</td>\n",
       "      <td>0</td>\n",
       "      <td>278</td>\n",
       "      <td>944</td>\n",
       "      <td>944</td>\n",
       "      <td>...</td>\n",
       "      <td>0</td>\n",
       "      <td>45</td>\n",
       "      <td>0</td>\n",
       "      <td>0</td>\n",
       "      <td>0</td>\n",
       "      <td>0</td>\n",
       "      <td>0</td>\n",
       "      <td>6</td>\n",
       "      <td>2009</td>\n",
       "      <td>230000</td>\n",
       "    </tr>\n",
       "    <tr>\n",
       "      <th>1411</th>\n",
       "      <td>80.0</td>\n",
       "      <td>9600</td>\n",
       "      <td>1950</td>\n",
       "      <td>2005</td>\n",
       "      <td>0.0</td>\n",
       "      <td>120</td>\n",
       "      <td>0</td>\n",
       "      <td>736</td>\n",
       "      <td>856</td>\n",
       "      <td>1112</td>\n",
       "      <td>...</td>\n",
       "      <td>0</td>\n",
       "      <td>0</td>\n",
       "      <td>0</td>\n",
       "      <td>0</td>\n",
       "      <td>0</td>\n",
       "      <td>0</td>\n",
       "      <td>0</td>\n",
       "      <td>9</td>\n",
       "      <td>2009</td>\n",
       "      <td>140000</td>\n",
       "    </tr>\n",
       "    <tr>\n",
       "      <th>1413</th>\n",
       "      <td>88.0</td>\n",
       "      <td>10994</td>\n",
       "      <td>2005</td>\n",
       "      <td>2006</td>\n",
       "      <td>366.0</td>\n",
       "      <td>976</td>\n",
       "      <td>0</td>\n",
       "      <td>868</td>\n",
       "      <td>1844</td>\n",
       "      <td>1844</td>\n",
       "      <td>...</td>\n",
       "      <td>165</td>\n",
       "      <td>44</td>\n",
       "      <td>0</td>\n",
       "      <td>0</td>\n",
       "      <td>0</td>\n",
       "      <td>0</td>\n",
       "      <td>0</td>\n",
       "      <td>9</td>\n",
       "      <td>2009</td>\n",
       "      <td>257000</td>\n",
       "    </tr>\n",
       "    <tr>\n",
       "      <th>1422</th>\n",
       "      <td>37.0</td>\n",
       "      <td>4435</td>\n",
       "      <td>2003</td>\n",
       "      <td>2003</td>\n",
       "      <td>170.0</td>\n",
       "      <td>686</td>\n",
       "      <td>0</td>\n",
       "      <td>162</td>\n",
       "      <td>848</td>\n",
       "      <td>848</td>\n",
       "      <td>...</td>\n",
       "      <td>140</td>\n",
       "      <td>0</td>\n",
       "      <td>0</td>\n",
       "      <td>0</td>\n",
       "      <td>0</td>\n",
       "      <td>0</td>\n",
       "      <td>0</td>\n",
       "      <td>3</td>\n",
       "      <td>2008</td>\n",
       "      <td>136500</td>\n",
       "    </tr>\n",
       "    <tr>\n",
       "      <th>1425</th>\n",
       "      <td>80.0</td>\n",
       "      <td>10721</td>\n",
       "      <td>1959</td>\n",
       "      <td>1959</td>\n",
       "      <td>243.0</td>\n",
       "      <td>0</td>\n",
       "      <td>0</td>\n",
       "      <td>1252</td>\n",
       "      <td>1252</td>\n",
       "      <td>1252</td>\n",
       "      <td>...</td>\n",
       "      <td>0</td>\n",
       "      <td>39</td>\n",
       "      <td>0</td>\n",
       "      <td>0</td>\n",
       "      <td>0</td>\n",
       "      <td>0</td>\n",
       "      <td>0</td>\n",
       "      <td>10</td>\n",
       "      <td>2008</td>\n",
       "      <td>142000</td>\n",
       "    </tr>\n",
       "    <tr>\n",
       "      <th>1427</th>\n",
       "      <td>60.0</td>\n",
       "      <td>10930</td>\n",
       "      <td>1945</td>\n",
       "      <td>1950</td>\n",
       "      <td>0.0</td>\n",
       "      <td>580</td>\n",
       "      <td>0</td>\n",
       "      <td>333</td>\n",
       "      <td>913</td>\n",
       "      <td>1048</td>\n",
       "      <td>...</td>\n",
       "      <td>0</td>\n",
       "      <td>0</td>\n",
       "      <td>0</td>\n",
       "      <td>0</td>\n",
       "      <td>0</td>\n",
       "      <td>0</td>\n",
       "      <td>0</td>\n",
       "      <td>4</td>\n",
       "      <td>2008</td>\n",
       "      <td>140000</td>\n",
       "    </tr>\n",
       "    <tr>\n",
       "      <th>1431</th>\n",
       "      <td>NaN</td>\n",
       "      <td>4928</td>\n",
       "      <td>1976</td>\n",
       "      <td>1976</td>\n",
       "      <td>0.0</td>\n",
       "      <td>958</td>\n",
       "      <td>0</td>\n",
       "      <td>0</td>\n",
       "      <td>958</td>\n",
       "      <td>958</td>\n",
       "      <td>...</td>\n",
       "      <td>0</td>\n",
       "      <td>60</td>\n",
       "      <td>0</td>\n",
       "      <td>0</td>\n",
       "      <td>0</td>\n",
       "      <td>0</td>\n",
       "      <td>0</td>\n",
       "      <td>10</td>\n",
       "      <td>2009</td>\n",
       "      <td>143750</td>\n",
       "    </tr>\n",
       "    <tr>\n",
       "      <th>1432</th>\n",
       "      <td>60.0</td>\n",
       "      <td>10800</td>\n",
       "      <td>1927</td>\n",
       "      <td>2007</td>\n",
       "      <td>0.0</td>\n",
       "      <td>0</td>\n",
       "      <td>0</td>\n",
       "      <td>656</td>\n",
       "      <td>656</td>\n",
       "      <td>968</td>\n",
       "      <td>...</td>\n",
       "      <td>0</td>\n",
       "      <td>0</td>\n",
       "      <td>0</td>\n",
       "      <td>0</td>\n",
       "      <td>0</td>\n",
       "      <td>0</td>\n",
       "      <td>0</td>\n",
       "      <td>8</td>\n",
       "      <td>2007</td>\n",
       "      <td>64500</td>\n",
       "    </tr>\n",
       "    <tr>\n",
       "      <th>1433</th>\n",
       "      <td>93.0</td>\n",
       "      <td>10261</td>\n",
       "      <td>2000</td>\n",
       "      <td>2000</td>\n",
       "      <td>318.0</td>\n",
       "      <td>0</td>\n",
       "      <td>0</td>\n",
       "      <td>936</td>\n",
       "      <td>936</td>\n",
       "      <td>962</td>\n",
       "      <td>...</td>\n",
       "      <td>0</td>\n",
       "      <td>0</td>\n",
       "      <td>0</td>\n",
       "      <td>0</td>\n",
       "      <td>0</td>\n",
       "      <td>0</td>\n",
       "      <td>0</td>\n",
       "      <td>5</td>\n",
       "      <td>2008</td>\n",
       "      <td>186500</td>\n",
       "    </tr>\n",
       "    <tr>\n",
       "      <th>1434</th>\n",
       "      <td>80.0</td>\n",
       "      <td>17400</td>\n",
       "      <td>1977</td>\n",
       "      <td>1977</td>\n",
       "      <td>0.0</td>\n",
       "      <td>936</td>\n",
       "      <td>0</td>\n",
       "      <td>190</td>\n",
       "      <td>1126</td>\n",
       "      <td>1126</td>\n",
       "      <td>...</td>\n",
       "      <td>295</td>\n",
       "      <td>41</td>\n",
       "      <td>0</td>\n",
       "      <td>0</td>\n",
       "      <td>0</td>\n",
       "      <td>0</td>\n",
       "      <td>0</td>\n",
       "      <td>5</td>\n",
       "      <td>2006</td>\n",
       "      <td>160000</td>\n",
       "    </tr>\n",
       "    <tr>\n",
       "      <th>1435</th>\n",
       "      <td>80.0</td>\n",
       "      <td>8400</td>\n",
       "      <td>1962</td>\n",
       "      <td>2005</td>\n",
       "      <td>237.0</td>\n",
       "      <td>0</td>\n",
       "      <td>0</td>\n",
       "      <td>1319</td>\n",
       "      <td>1319</td>\n",
       "      <td>1537</td>\n",
       "      <td>...</td>\n",
       "      <td>0</td>\n",
       "      <td>36</td>\n",
       "      <td>0</td>\n",
       "      <td>0</td>\n",
       "      <td>0</td>\n",
       "      <td>0</td>\n",
       "      <td>0</td>\n",
       "      <td>7</td>\n",
       "      <td>2008</td>\n",
       "      <td>174000</td>\n",
       "    </tr>\n",
       "    <tr>\n",
       "      <th>1436</th>\n",
       "      <td>60.0</td>\n",
       "      <td>9000</td>\n",
       "      <td>1971</td>\n",
       "      <td>1971</td>\n",
       "      <td>0.0</td>\n",
       "      <td>616</td>\n",
       "      <td>0</td>\n",
       "      <td>248</td>\n",
       "      <td>864</td>\n",
       "      <td>864</td>\n",
       "      <td>...</td>\n",
       "      <td>0</td>\n",
       "      <td>0</td>\n",
       "      <td>0</td>\n",
       "      <td>0</td>\n",
       "      <td>0</td>\n",
       "      <td>0</td>\n",
       "      <td>0</td>\n",
       "      <td>5</td>\n",
       "      <td>2007</td>\n",
       "      <td>120500</td>\n",
       "    </tr>\n",
       "    <tr>\n",
       "      <th>1441</th>\n",
       "      <td>NaN</td>\n",
       "      <td>4426</td>\n",
       "      <td>2004</td>\n",
       "      <td>2004</td>\n",
       "      <td>147.0</td>\n",
       "      <td>697</td>\n",
       "      <td>0</td>\n",
       "      <td>151</td>\n",
       "      <td>848</td>\n",
       "      <td>848</td>\n",
       "      <td>...</td>\n",
       "      <td>149</td>\n",
       "      <td>0</td>\n",
       "      <td>0</td>\n",
       "      <td>0</td>\n",
       "      <td>0</td>\n",
       "      <td>0</td>\n",
       "      <td>0</td>\n",
       "      <td>5</td>\n",
       "      <td>2008</td>\n",
       "      <td>149300</td>\n",
       "    </tr>\n",
       "    <tr>\n",
       "      <th>1442</th>\n",
       "      <td>85.0</td>\n",
       "      <td>11003</td>\n",
       "      <td>2008</td>\n",
       "      <td>2008</td>\n",
       "      <td>160.0</td>\n",
       "      <td>765</td>\n",
       "      <td>0</td>\n",
       "      <td>252</td>\n",
       "      <td>1017</td>\n",
       "      <td>1026</td>\n",
       "      <td>...</td>\n",
       "      <td>168</td>\n",
       "      <td>52</td>\n",
       "      <td>0</td>\n",
       "      <td>0</td>\n",
       "      <td>0</td>\n",
       "      <td>0</td>\n",
       "      <td>0</td>\n",
       "      <td>4</td>\n",
       "      <td>2009</td>\n",
       "      <td>310000</td>\n",
       "    </tr>\n",
       "    <tr>\n",
       "      <th>1444</th>\n",
       "      <td>63.0</td>\n",
       "      <td>8500</td>\n",
       "      <td>2004</td>\n",
       "      <td>2004</td>\n",
       "      <td>106.0</td>\n",
       "      <td>0</td>\n",
       "      <td>0</td>\n",
       "      <td>1422</td>\n",
       "      <td>1422</td>\n",
       "      <td>1422</td>\n",
       "      <td>...</td>\n",
       "      <td>192</td>\n",
       "      <td>60</td>\n",
       "      <td>0</td>\n",
       "      <td>0</td>\n",
       "      <td>0</td>\n",
       "      <td>0</td>\n",
       "      <td>0</td>\n",
       "      <td>11</td>\n",
       "      <td>2007</td>\n",
       "      <td>179600</td>\n",
       "    </tr>\n",
       "    <tr>\n",
       "      <th>1448</th>\n",
       "      <td>70.0</td>\n",
       "      <td>11767</td>\n",
       "      <td>1910</td>\n",
       "      <td>2000</td>\n",
       "      <td>0.0</td>\n",
       "      <td>0</td>\n",
       "      <td>0</td>\n",
       "      <td>560</td>\n",
       "      <td>560</td>\n",
       "      <td>796</td>\n",
       "      <td>...</td>\n",
       "      <td>168</td>\n",
       "      <td>24</td>\n",
       "      <td>0</td>\n",
       "      <td>0</td>\n",
       "      <td>0</td>\n",
       "      <td>0</td>\n",
       "      <td>0</td>\n",
       "      <td>5</td>\n",
       "      <td>2007</td>\n",
       "      <td>112000</td>\n",
       "    </tr>\n",
       "    <tr>\n",
       "      <th>1451</th>\n",
       "      <td>78.0</td>\n",
       "      <td>9262</td>\n",
       "      <td>2008</td>\n",
       "      <td>2009</td>\n",
       "      <td>194.0</td>\n",
       "      <td>0</td>\n",
       "      <td>0</td>\n",
       "      <td>1573</td>\n",
       "      <td>1573</td>\n",
       "      <td>1578</td>\n",
       "      <td>...</td>\n",
       "      <td>0</td>\n",
       "      <td>36</td>\n",
       "      <td>0</td>\n",
       "      <td>0</td>\n",
       "      <td>0</td>\n",
       "      <td>0</td>\n",
       "      <td>0</td>\n",
       "      <td>5</td>\n",
       "      <td>2009</td>\n",
       "      <td>287090</td>\n",
       "    </tr>\n",
       "    <tr>\n",
       "      <th>1452</th>\n",
       "      <td>35.0</td>\n",
       "      <td>3675</td>\n",
       "      <td>2005</td>\n",
       "      <td>2005</td>\n",
       "      <td>80.0</td>\n",
       "      <td>547</td>\n",
       "      <td>0</td>\n",
       "      <td>0</td>\n",
       "      <td>547</td>\n",
       "      <td>1072</td>\n",
       "      <td>...</td>\n",
       "      <td>0</td>\n",
       "      <td>28</td>\n",
       "      <td>0</td>\n",
       "      <td>0</td>\n",
       "      <td>0</td>\n",
       "      <td>0</td>\n",
       "      <td>0</td>\n",
       "      <td>5</td>\n",
       "      <td>2006</td>\n",
       "      <td>145000</td>\n",
       "    </tr>\n",
       "    <tr>\n",
       "      <th>1453</th>\n",
       "      <td>90.0</td>\n",
       "      <td>17217</td>\n",
       "      <td>2006</td>\n",
       "      <td>2006</td>\n",
       "      <td>0.0</td>\n",
       "      <td>0</td>\n",
       "      <td>0</td>\n",
       "      <td>1140</td>\n",
       "      <td>1140</td>\n",
       "      <td>1140</td>\n",
       "      <td>...</td>\n",
       "      <td>36</td>\n",
       "      <td>56</td>\n",
       "      <td>0</td>\n",
       "      <td>0</td>\n",
       "      <td>0</td>\n",
       "      <td>0</td>\n",
       "      <td>0</td>\n",
       "      <td>7</td>\n",
       "      <td>2006</td>\n",
       "      <td>84500</td>\n",
       "    </tr>\n",
       "    <tr>\n",
       "      <th>1454</th>\n",
       "      <td>62.0</td>\n",
       "      <td>7500</td>\n",
       "      <td>2004</td>\n",
       "      <td>2005</td>\n",
       "      <td>0.0</td>\n",
       "      <td>410</td>\n",
       "      <td>0</td>\n",
       "      <td>811</td>\n",
       "      <td>1221</td>\n",
       "      <td>1221</td>\n",
       "      <td>...</td>\n",
       "      <td>0</td>\n",
       "      <td>113</td>\n",
       "      <td>0</td>\n",
       "      <td>0</td>\n",
       "      <td>0</td>\n",
       "      <td>0</td>\n",
       "      <td>0</td>\n",
       "      <td>10</td>\n",
       "      <td>2009</td>\n",
       "      <td>185000</td>\n",
       "    </tr>\n",
       "    <tr>\n",
       "      <th>1455</th>\n",
       "      <td>62.0</td>\n",
       "      <td>7917</td>\n",
       "      <td>1999</td>\n",
       "      <td>2000</td>\n",
       "      <td>0.0</td>\n",
       "      <td>0</td>\n",
       "      <td>0</td>\n",
       "      <td>953</td>\n",
       "      <td>953</td>\n",
       "      <td>953</td>\n",
       "      <td>...</td>\n",
       "      <td>0</td>\n",
       "      <td>40</td>\n",
       "      <td>0</td>\n",
       "      <td>0</td>\n",
       "      <td>0</td>\n",
       "      <td>0</td>\n",
       "      <td>0</td>\n",
       "      <td>8</td>\n",
       "      <td>2007</td>\n",
       "      <td>175000</td>\n",
       "    </tr>\n",
       "  </tbody>\n",
       "</table>\n",
       "<p>619 rows × 34 columns</p>\n",
       "</div>"
      ],
      "text/plain": [
       "      LotFrontage  LotArea  YearBuilt  YearRemodAdd  MasVnrArea  BsmtFinSF1  \\\n",
       "0            65.0     8450       2003          2003       196.0         706   \n",
       "2            68.0    11250       2001          2002       162.0         486   \n",
       "4            84.0    14260       2000          2000       350.0         655   \n",
       "6            75.0    10084       2004          2005       186.0        1369   \n",
       "10           70.0    11200       1965          1965         0.0         906   \n",
       "13           91.0    10652       2006          2007       306.0           0   \n",
       "15           51.0     6120       1929          2001         0.0           0   \n",
       "18           66.0    13695       2004          2004         0.0         646   \n",
       "19           70.0     7560       1958          1965         0.0         504   \n",
       "20          101.0    14215       2005          2006       380.0           0   \n",
       "23           44.0     4224       1976          1976         0.0         840   \n",
       "27           98.0    11478       2007          2008       200.0        1218   \n",
       "31            NaN     8544       1966          2006         0.0           0   \n",
       "32           85.0    11049       2007          2007         0.0           0   \n",
       "34           60.0     7313       2005          2005       246.0        1153   \n",
       "35          108.0    13418       2004          2005       132.0           0   \n",
       "38           68.0     7922       1953          2007         0.0         731   \n",
       "40           84.0     8658       1965          1965       101.0         643   \n",
       "45           61.0     7658       2005          2005       412.0         456   \n",
       "47           84.0    11096       2006          2006         0.0          24   \n",
       "49           66.0     7742       1966          1966         0.0         763   \n",
       "54           60.0     7134       1955          1955         0.0         384   \n",
       "57           89.0    11645       2004          2004         0.0           0   \n",
       "59           60.0     7200       1972          1972         0.0         632   \n",
       "60           63.0    13072       2004          2004         0.0         941   \n",
       "62           44.0     6442       2006          2006       178.0          24   \n",
       "65           76.0     9591       2004          2005       344.0           0   \n",
       "67           72.0    10665       2003          2003       167.0        1013   \n",
       "68           47.0     4608       1945          1950         0.0           0   \n",
       "71           69.0     7599       1982          2006         0.0         565   \n",
       "...           ...      ...        ...           ...         ...         ...   \n",
       "1392         68.0     7838       1967          1967         0.0         769   \n",
       "1394         53.0     4045       2006          2006        45.0        1070   \n",
       "1395         88.0    12665       2005          2006       245.0           0   \n",
       "1399         51.0     6171       1925          1990         0.0         264   \n",
       "1401         62.0     7415       2004          2004         0.0         759   \n",
       "1402         64.0     6762       2006          2006         0.0           0   \n",
       "1403         49.0    15256       2007          2007        84.0         929   \n",
       "1406         70.0     8445       1972          2007         0.0         656   \n",
       "1407          NaN     8780       1985          1985         0.0         625   \n",
       "1410         79.0    12420       2001          2001         0.0         666   \n",
       "1411         80.0     9600       1950          2005         0.0         120   \n",
       "1413         88.0    10994       2005          2006       366.0         976   \n",
       "1422         37.0     4435       2003          2003       170.0         686   \n",
       "1425         80.0    10721       1959          1959       243.0           0   \n",
       "1427         60.0    10930       1945          1950         0.0         580   \n",
       "1431          NaN     4928       1976          1976         0.0         958   \n",
       "1432         60.0    10800       1927          2007         0.0           0   \n",
       "1433         93.0    10261       2000          2000       318.0           0   \n",
       "1434         80.0    17400       1977          1977         0.0         936   \n",
       "1435         80.0     8400       1962          2005       237.0           0   \n",
       "1436         60.0     9000       1971          1971         0.0         616   \n",
       "1441          NaN     4426       2004          2004       147.0         697   \n",
       "1442         85.0    11003       2008          2008       160.0         765   \n",
       "1444         63.0     8500       2004          2004       106.0           0   \n",
       "1448         70.0    11767       1910          2000         0.0           0   \n",
       "1451         78.0     9262       2008          2009       194.0           0   \n",
       "1452         35.0     3675       2005          2005        80.0         547   \n",
       "1453         90.0    17217       2006          2006         0.0           0   \n",
       "1454         62.0     7500       2004          2005         0.0         410   \n",
       "1455         62.0     7917       1999          2000         0.0           0   \n",
       "\n",
       "      BsmtFinSF2  BsmtUnfSF  TotalBsmtSF  1stFlrSF  ...  WoodDeckSF  \\\n",
       "0              0        150          856       856  ...           0   \n",
       "2              0        434          920       920  ...           0   \n",
       "4              0        490         1145      1145  ...         192   \n",
       "6              0        317         1686      1694  ...         255   \n",
       "10             0        134         1040      1040  ...           0   \n",
       "13             0       1494         1494      1494  ...         160   \n",
       "15             0        832          832       854  ...          48   \n",
       "18             0        468         1114      1114  ...           0   \n",
       "19             0        525         1029      1339  ...           0   \n",
       "20             0       1158         1158      1158  ...         240   \n",
       "23             0        200         1040      1060  ...         100   \n",
       "27             0        486         1704      1704  ...           0   \n",
       "31             0       1228         1228      1228  ...           0   \n",
       "32             0       1234         1234      1234  ...           0   \n",
       "34             0        408         1561      1561  ...         203   \n",
       "35             0       1117         1117      1132  ...         113   \n",
       "38             0        326         1057      1057  ...           0   \n",
       "40             0        445         1088      1324  ...           0   \n",
       "45             0       1296         1752      1752  ...         196   \n",
       "47             0       1632         1656      1656  ...           0   \n",
       "49             0        192          955       955  ...           0   \n",
       "54             0          0          384      1360  ...           0   \n",
       "57             0        860          860       860  ...           0   \n",
       "59             0        148          780       780  ...         196   \n",
       "60             0        217         1158      1158  ...           0   \n",
       "62             0       1346         1370      1370  ...         120   \n",
       "65             0       1143         1143      1143  ...         192   \n",
       "67             0        440         1453      1479  ...         144   \n",
       "68             0        747          747       747  ...           0   \n",
       "71             0        280          845       845  ...           0   \n",
       "...          ...        ...          ...       ...  ...         ...   \n",
       "1392           0         95          864       900  ...         175   \n",
       "1394           0        286         1356      1500  ...         161   \n",
       "1395           0       1094         1094      1133  ...         144   \n",
       "1399           0        712          976      1160  ...         147   \n",
       "1401           0         80          839       864  ...         100   \n",
       "1402           0       1286         1286      1294  ...         168   \n",
       "1403           0        556         1485      1464  ...         168   \n",
       "1406           0        112          768       768  ...          58   \n",
       "1407           0        208          833       833  ...           0   \n",
       "1410           0        278          944       944  ...           0   \n",
       "1411           0        736          856      1112  ...           0   \n",
       "1413           0        868         1844      1844  ...         165   \n",
       "1422           0        162          848       848  ...         140   \n",
       "1425           0       1252         1252      1252  ...           0   \n",
       "1427           0        333          913      1048  ...           0   \n",
       "1431           0          0          958       958  ...           0   \n",
       "1432           0        656          656       968  ...           0   \n",
       "1433           0        936          936       962  ...           0   \n",
       "1434           0        190         1126      1126  ...         295   \n",
       "1435           0       1319         1319      1537  ...           0   \n",
       "1436           0        248          864       864  ...           0   \n",
       "1441           0        151          848       848  ...         149   \n",
       "1442           0        252         1017      1026  ...         168   \n",
       "1444           0       1422         1422      1422  ...         192   \n",
       "1448           0        560          560       796  ...         168   \n",
       "1451           0       1573         1573      1578  ...           0   \n",
       "1452           0          0          547      1072  ...           0   \n",
       "1453           0       1140         1140      1140  ...          36   \n",
       "1454           0        811         1221      1221  ...           0   \n",
       "1455           0        953          953       953  ...           0   \n",
       "\n",
       "      OpenPorchSF  EnclosedPorch  3SsnPorch  ScreenPorch  PoolArea  MiscVal  \\\n",
       "0              61              0          0            0         0        0   \n",
       "2              42              0          0            0         0        0   \n",
       "4              84              0          0            0         0        0   \n",
       "6              57              0          0            0         0        0   \n",
       "10              0              0          0            0         0        0   \n",
       "13             33              0          0            0         0        0   \n",
       "15            112              0          0            0         0        0   \n",
       "18            102              0          0            0         0        0   \n",
       "19              0              0          0            0         0        0   \n",
       "20            154              0          0            0         0        0   \n",
       "23            110              0          0            0         0        0   \n",
       "27             50              0          0            0         0        0   \n",
       "31             65              0          0            0         0        0   \n",
       "32             30              0          0            0         0        0   \n",
       "34             47              0          0            0         0        0   \n",
       "35             32              0          0            0         0        0   \n",
       "38             52              0          0            0         0        0   \n",
       "40            138              0          0            0         0        0   \n",
       "45             82              0          0            0         0        0   \n",
       "47            146              0          0            0         0        0   \n",
       "49              0              0          0            0         0        0   \n",
       "54             50              0          0            0         0        0   \n",
       "57             70              0          0            0         0        0   \n",
       "59              0              0          0            0         0        0   \n",
       "60             50              0          0            0         0        0   \n",
       "62             49              0          0            0         0        0   \n",
       "65            151              0          0            0         0        0   \n",
       "67             29              0          0            0         0        0   \n",
       "68              0              0          0            0         0        0   \n",
       "71              0              0          0            0         0        0   \n",
       "...           ...            ...        ...          ...       ...      ...   \n",
       "1392          144              0          0            0         0        0   \n",
       "1394           20              0          0            0         0        0   \n",
       "1395           39              0          0            0         0        0   \n",
       "1399           16              0          0            0         0        0   \n",
       "1401           75              0          0            0         0        0   \n",
       "1402           55              0          0            0         0        0   \n",
       "1403          160              0          0            0         0        0   \n",
       "1406            0              0          0            0         0        0   \n",
       "1407            0              0          0            0         0        0   \n",
       "1410           45              0          0            0         0        0   \n",
       "1411            0              0          0            0         0        0   \n",
       "1413           44              0          0            0         0        0   \n",
       "1422            0              0          0            0         0        0   \n",
       "1425           39              0          0            0         0        0   \n",
       "1427            0              0          0            0         0        0   \n",
       "1431           60              0          0            0         0        0   \n",
       "1432            0              0          0            0         0        0   \n",
       "1433            0              0          0            0         0        0   \n",
       "1434           41              0          0            0         0        0   \n",
       "1435           36              0          0            0         0        0   \n",
       "1436            0              0          0            0         0        0   \n",
       "1441            0              0          0            0         0        0   \n",
       "1442           52              0          0            0         0        0   \n",
       "1444           60              0          0            0         0        0   \n",
       "1448           24              0          0            0         0        0   \n",
       "1451           36              0          0            0         0        0   \n",
       "1452           28              0          0            0         0        0   \n",
       "1453           56              0          0            0         0        0   \n",
       "1454          113              0          0            0         0        0   \n",
       "1455           40              0          0            0         0        0   \n",
       "\n",
       "      MoSold  YrSold  SalePrice  \n",
       "0          2    2008     208500  \n",
       "2          9    2008     223500  \n",
       "4         12    2008     250000  \n",
       "6          8    2007     307000  \n",
       "10         2    2008     129500  \n",
       "13         8    2007     279500  \n",
       "15         7    2007     132000  \n",
       "18         6    2008     159000  \n",
       "19         5    2009     139000  \n",
       "20        11    2006     325300  \n",
       "23         6    2007     129900  \n",
       "27         5    2010     306000  \n",
       "31         6    2008     149350  \n",
       "32         1    2008     179900  \n",
       "34         8    2007     277500  \n",
       "35         9    2006     309000  \n",
       "38         1    2010     109000  \n",
       "40        12    2006     160000  \n",
       "45         2    2010     319900  \n",
       "47         7    2007     249700  \n",
       "49         1    2007     127000  \n",
       "54         2    2007     130000  \n",
       "57         8    2006     196500  \n",
       "59         1    2008     124900  \n",
       "60         5    2006     158000  \n",
       "62        10    2007     202500  \n",
       "65        10    2007     317000  \n",
       "67         6    2007     226000  \n",
       "68         6    2010      80000  \n",
       "71         6    2007     129500  \n",
       "...      ...     ...        ...  \n",
       "1392      12    2006     123000  \n",
       "1394      10    2006     246578  \n",
       "1395       2    2007     281213  \n",
       "1399      10    2009     137450  \n",
       "1401       4    2008     193000  \n",
       "1402       7    2006     193879  \n",
       "1403       8    2007     282922  \n",
       "1406       3    2009     133000  \n",
       "1407       3    2009     112000  \n",
       "1410       6    2009     230000  \n",
       "1411       9    2009     140000  \n",
       "1413       9    2009     257000  \n",
       "1422       3    2008     136500  \n",
       "1425      10    2008     142000  \n",
       "1427       4    2008     140000  \n",
       "1431      10    2009     143750  \n",
       "1432       8    2007      64500  \n",
       "1433       5    2008     186500  \n",
       "1434       5    2006     160000  \n",
       "1435       7    2008     174000  \n",
       "1436       5    2007     120500  \n",
       "1441       5    2008     149300  \n",
       "1442       4    2009     310000  \n",
       "1444      11    2007     179600  \n",
       "1448       5    2007     112000  \n",
       "1451       5    2009     287090  \n",
       "1452       5    2006     145000  \n",
       "1453       7    2006      84500  \n",
       "1454      10    2009     185000  \n",
       "1455       8    2007     175000  \n",
       "\n",
       "[619 rows x 34 columns]"
      ]
     },
     "metadata": {},
     "output_type": "display_data"
    }
   ],
   "source": [
    "display(new_df1)"
   ]
  },
  {
   "cell_type": "code",
   "execution_count": 8,
   "metadata": {
    "scrolled": true
   },
   "outputs": [
    {
     "name": "stdout",
     "output_type": "stream",
     "text": [
      "(619, 34)\n"
     ]
    }
   ],
   "source": [
    "print(new_df1.shape)"
   ]
  },
  {
   "cell_type": "code",
   "execution_count": 9,
   "metadata": {},
   "outputs": [
    {
     "name": "stderr",
     "output_type": "stream",
     "text": [
      "/Users/stephentang/anaconda3/lib/python3.7/site-packages/ipykernel_launcher.py:2: RuntimeWarning: More than 20 figures have been opened. Figures created through the pyplot interface (`matplotlib.pyplot.figure`) are retained until explicitly closed and may consume too much memory. (To control this warning, see the rcParam `figure.max_open_warning`).\n",
      "  \n",
      "/Users/stephentang/anaconda3/lib/python3.7/site-packages/ipykernel_launcher.py:2: RuntimeWarning: More than 20 figures have been opened. Figures created through the pyplot interface (`matplotlib.pyplot.figure`) are retained until explicitly closed and may consume too much memory. (To control this warning, see the rcParam `figure.max_open_warning`).\n",
      "  \n",
      "/Users/stephentang/anaconda3/lib/python3.7/site-packages/ipykernel_launcher.py:2: RuntimeWarning: More than 20 figures have been opened. Figures created through the pyplot interface (`matplotlib.pyplot.figure`) are retained until explicitly closed and may consume too much memory. (To control this warning, see the rcParam `figure.max_open_warning`).\n",
      "  \n",
      "/Users/stephentang/anaconda3/lib/python3.7/site-packages/ipykernel_launcher.py:2: RuntimeWarning: More than 20 figures have been opened. Figures created through the pyplot interface (`matplotlib.pyplot.figure`) are retained until explicitly closed and may consume too much memory. (To control this warning, see the rcParam `figure.max_open_warning`).\n",
      "  \n",
      "/Users/stephentang/anaconda3/lib/python3.7/site-packages/ipykernel_launcher.py:2: RuntimeWarning: More than 20 figures have been opened. Figures created through the pyplot interface (`matplotlib.pyplot.figure`) are retained until explicitly closed and may consume too much memory. (To control this warning, see the rcParam `figure.max_open_warning`).\n",
      "  \n",
      "/Users/stephentang/anaconda3/lib/python3.7/site-packages/ipykernel_launcher.py:2: RuntimeWarning: More than 20 figures have been opened. Figures created through the pyplot interface (`matplotlib.pyplot.figure`) are retained until explicitly closed and may consume too much memory. (To control this warning, see the rcParam `figure.max_open_warning`).\n",
      "  \n",
      "/Users/stephentang/anaconda3/lib/python3.7/site-packages/ipykernel_launcher.py:2: RuntimeWarning: More than 20 figures have been opened. Figures created through the pyplot interface (`matplotlib.pyplot.figure`) are retained until explicitly closed and may consume too much memory. (To control this warning, see the rcParam `figure.max_open_warning`).\n",
      "  \n",
      "/Users/stephentang/anaconda3/lib/python3.7/site-packages/ipykernel_launcher.py:2: RuntimeWarning: More than 20 figures have been opened. Figures created through the pyplot interface (`matplotlib.pyplot.figure`) are retained until explicitly closed and may consume too much memory. (To control this warning, see the rcParam `figure.max_open_warning`).\n",
      "  \n",
      "/Users/stephentang/anaconda3/lib/python3.7/site-packages/ipykernel_launcher.py:2: RuntimeWarning: More than 20 figures have been opened. Figures created through the pyplot interface (`matplotlib.pyplot.figure`) are retained until explicitly closed and may consume too much memory. (To control this warning, see the rcParam `figure.max_open_warning`).\n",
      "  \n",
      "/Users/stephentang/anaconda3/lib/python3.7/site-packages/ipykernel_launcher.py:2: RuntimeWarning: More than 20 figures have been opened. Figures created through the pyplot interface (`matplotlib.pyplot.figure`) are retained until explicitly closed and may consume too much memory. (To control this warning, see the rcParam `figure.max_open_warning`).\n",
      "  \n",
      "/Users/stephentang/anaconda3/lib/python3.7/site-packages/ipykernel_launcher.py:2: RuntimeWarning: More than 20 figures have been opened. Figures created through the pyplot interface (`matplotlib.pyplot.figure`) are retained until explicitly closed and may consume too much memory. (To control this warning, see the rcParam `figure.max_open_warning`).\n",
      "  \n",
      "/Users/stephentang/anaconda3/lib/python3.7/site-packages/ipykernel_launcher.py:2: RuntimeWarning: More than 20 figures have been opened. Figures created through the pyplot interface (`matplotlib.pyplot.figure`) are retained until explicitly closed and may consume too much memory. (To control this warning, see the rcParam `figure.max_open_warning`).\n",
      "  \n",
      "/Users/stephentang/anaconda3/lib/python3.7/site-packages/ipykernel_launcher.py:2: RuntimeWarning: More than 20 figures have been opened. Figures created through the pyplot interface (`matplotlib.pyplot.figure`) are retained until explicitly closed and may consume too much memory. (To control this warning, see the rcParam `figure.max_open_warning`).\n",
      "  \n",
      "/Users/stephentang/anaconda3/lib/python3.7/site-packages/ipykernel_launcher.py:2: RuntimeWarning: More than 20 figures have been opened. Figures created through the pyplot interface (`matplotlib.pyplot.figure`) are retained until explicitly closed and may consume too much memory. (To control this warning, see the rcParam `figure.max_open_warning`).\n",
      "  \n"
     ]
    },
    {
     "data": {
      "image/png": "[encoded data removed]",
      "text/plain": [
       "<Figure size 432x288 with 1 Axes>"
      ]
     },
     "metadata": {
      "needs_background": "light"
     },
     "output_type": "display_data"
    },
    {
     "data": {
      "image/png": "[encoded data removed]",
      "text/plain": [
       "<Figure size 432x288 with 1 Axes>"
      ]
     },
     "metadata": {
      "needs_background": "light"
     },
     "output_type": "display_data"
    },
    {
     "data": {
      "image/png": "[encoded data removed]",
      "text/plain": [
       "<Figure size 432x288 with 1 Axes>"
      ]
     },
     "metadata": {
      "needs_background": "light"
     },
     "output_type": "display_data"
    },
    {
     "data": {
      "image/png": "[encoded data removed]",
      "text/plain": [
       "<Figure size 432x288 with 1 Axes>"
      ]
     },
     "metadata": {
      "needs_background": "light"
     },
     "output_type": "display_data"
    },
    {
     "data": {
      "image/png": "[encoded data removed]",
      "text/plain": [
       "<Figure size 432x288 with 1 Axes>"
      ]
     },
     "metadata": {
      "needs_background": "light"
     },
     "output_type": "display_data"
    },
    {
     "data": {
      "image/png": "[encoded data removed]",
      "text/plain": [
       "<Figure size 432x288 with 1 Axes>"
      ]
     },
     "metadata": {
      "needs_background": "light"
     },
     "output_type": "display_data"
    },
    {
     "data": {
      "image/png": "[encoded data removed]",
      "text/plain": [
       "<Figure size 432x288 with 1 Axes>"
      ]
     },
     "metadata": {
      "needs_background": "light"
     },
     "output_type": "display_data"
    },
    {
     "data": {
      "image/png": "[encoded data removed]",
      "text/plain": [
       "<Figure size 432x288 with 1 Axes>"
      ]
     },
     "metadata": {
      "needs_background": "light"
     },
     "output_type": "display_data"
    },
    {
     "data": {
      "image/png": "[encoded data removed]",
      "text/plain": [
       "<Figure size 432x288 with 1 Axes>"
      ]
     },
     "metadata": {
      "needs_background": "light"
     },
     "output_type": "display_data"
    },
    {
     "data": {
      "image/png": "[encoded data removed]",
      "text/plain": [
       "<Figure size 432x288 with 1 Axes>"
      ]
     },
     "metadata": {
      "needs_background": "light"
     },
     "output_type": "display_data"
    },
    {
     "data": {
      "image/png": "[encoded data removed]",
      "text/plain": [
       "<Figure size 432x288 with 1 Axes>"
      ]
     },
     "metadata": {
      "needs_background": "light"
     },
     "output_type": "display_data"
    },
    {
     "data": {
      "image/png": "[encoded data removed]",
      "text/plain": [
       "<Figure size 432x288 with 1 Axes>"
      ]
     },
     "metadata": {
      "needs_background": "light"
     },
     "output_type": "display_data"
    },
    {
     "data": {
      "image/png": "[encoded data removed]",
      "text/plain": [
       "<Figure size 432x288 with 1 Axes>"
      ]
     },
     "metadata": {
      "needs_background": "light"
     },
     "output_type": "display_data"
    },
    {
     "data": {
      "image/png": "[encoded data removed]",
      "text/plain": [
       "<Figure size 432x288 with 1 Axes>"
      ]
     },
     "metadata": {
      "needs_background": "light"
     },
     "output_type": "display_data"
    },
    {
     "data": {
      "image/png": "[encoded data removed]",
      "text/plain": [
       "<Figure size 432x288 with 1 Axes>"
      ]
     },
     "metadata": {
      "needs_background": "light"
     },
     "output_type": "display_data"
    },
    {
     "data": {
      "image/png": "[encoded data removed]",
      "text/plain": [
       "<Figure size 432x288 with 1 Axes>"
      ]
     },
     "metadata": {
      "needs_background": "light"
     },
     "output_type": "display_data"
    },
    {
     "data": {
      "image/png": "[encoded data removed]",
      "text/plain": [
       "<Figure size 432x288 with 1 Axes>"
      ]
     },
     "metadata": {
      "needs_background": "light"
     },
     "output_type": "display_data"
    },
    {
     "data": {
      "image/png": "[encoded data removed]",
      "text/plain": [
       "<Figure size 432x288 with 1 Axes>"
      ]
     },
     "metadata": {
      "needs_background": "light"
     },
     "output_type": "display_data"
    },
    {
     "data": {
      "image/png": "[encoded data removed]",
      "text/plain": [
       "<Figure size 432x288 with 1 Axes>"
      ]
     },
     "metadata": {
      "needs_background": "light"
     },
     "output_type": "display_data"
    },
    {
     "data": {
      "image/png": "[encoded data removed]",
      "text/plain": [
       "<Figure size 432x288 with 1 Axes>"
      ]
     },
     "metadata": {
      "needs_background": "light"
     },
     "output_type": "display_data"
    },
    {
     "data": {
      "image/png": "[encoded data removed]",
      "text/plain": [
       "<Figure size 432x288 with 1 Axes>"
      ]
     },
     "metadata": {
      "needs_background": "light"
     },
     "output_type": "display_data"
    },
    {
     "data": {
      "image/png": "[encoded data removed]",
      "text/plain": [
       "<Figure size 432x288 with 1 Axes>"
      ]
     },
     "metadata": {
      "needs_background": "light"
     },
     "output_type": "display_data"
    },
    {
     "data": {
      "image/png": "[encoded data removed]",
      "text/plain": [
       "<Figure size 432x288 with 1 Axes>"
      ]
     },
     "metadata": {
      "needs_background": "light"
     },
     "output_type": "display_data"
    },
    {
     "data": {
      "image/png": "[encoded data removed]",
      "text/plain": [
       "<Figure size 432x288 with 1 Axes>"
      ]
     },
     "metadata": {
      "needs_background": "light"
     },
     "output_type": "display_data"
    },
    {
     "data": {
      "image/png": "[encoded data removed]",
      "text/plain": [
       "<Figure size 432x288 with 1 Axes>"
      ]
     },
     "metadata": {
      "needs_background": "light"
     },
     "output_type": "display_data"
    },
    {
     "data": {
      "image/png": "[encoded data removed]",
      "text/plain": [
       "<Figure size 432x288 with 1 Axes>"
      ]
     },
     "metadata": {
      "needs_background": "light"
     },
     "output_type": "display_data"
    },
    {
     "data": {
      "image/png": "[encoded data removed]",
      "text/plain": [
       "<Figure size 432x288 with 1 Axes>"
      ]
     },
     "metadata": {
      "needs_background": "light"
     },
     "output_type": "display_data"
    },
    {
     "data": {
      "image/png": "[encoded data removed]",
      "text/plain": [
       "<Figure size 432x288 with 1 Axes>"
      ]
     },
     "metadata": {
      "needs_background": "light"
     },
     "output_type": "display_data"
    },
    {
     "data": {
      "image/png": "[encoded data removed]",
      "text/plain": [
       "<Figure size 432x288 with 1 Axes>"
      ]
     },
     "metadata": {
      "needs_background": "light"
     },
     "output_type": "display_data"
    },
    {
     "data": {
      "image/png": "[encoded data removed]",
      "text/plain": [
       "<Figure size 432x288 with 1 Axes>"
      ]
     },
     "metadata": {
      "needs_background": "light"
     },
     "output_type": "display_data"
    },
    {
     "data": {
      "image/png": "[encoded data removed]",
      "text/plain": [
       "<Figure size 432x288 with 1 Axes>"
      ]
     },
     "metadata": {
      "needs_background": "light"
     },
     "output_type": "display_data"
    },
    {
     "data": {
      "image/png": "[encoded data removed]",
      "text/plain": [
       "<Figure size 432x288 with 1 Axes>"
      ]
     },
     "metadata": {
      "needs_background": "light"
     },
     "output_type": "display_data"
    },
    {
     "data": {
      "image/png": "[encoded data removed]",
      "text/plain": [
       "<Figure size 432x288 with 1 Axes>"
      ]
     },
     "metadata": {
      "needs_background": "light"
     },
     "output_type": "display_data"
    },
    {
     "data": {
      "image/png": "[encoded data removed]",
      "text/plain": [
       "<Figure size 432x288 with 1 Axes>"
      ]
     },
     "metadata": {
      "needs_background": "light"
     },
     "output_type": "display_data"
    }
   ],
   "source": [
    "for x in number:\n",
    "    plt.figure()\n",
    "    sns.boxplot(new_df1[x])"
   ]
  },
  {
   "cell_type": "markdown",
   "metadata": {},
   "source": [
    "# Question 5"
   ]
  },
  {
   "cell_type": "code",
   "execution_count": 10,
   "metadata": {},
   "outputs": [],
   "source": [
    "drop_col = ['BsmtFinSF2','LowQualFinSF','EnclosedPorch','3SsnPorch','ScreenPorch','PoolArea','MiscVal',\n",
    "           'KitchenAbvGr', 'BsmtHalfBath']\n",
    "for column in drop_col:\n",
    "    del new_df1[column]"
   ]
  },
  {
   "cell_type": "code",
   "execution_count": 11,
   "metadata": {},
   "outputs": [
    {
     "name": "stdout",
     "output_type": "stream",
     "text": [
      "(619, 25)\n"
     ]
    }
   ],
   "source": [
    "print(new_df1.shape)"
   ]
  },
  {
   "cell_type": "markdown",
   "metadata": {},
   "source": [
    "# Question 6"
   ]
  },
  {
   "cell_type": "code",
   "execution_count": 12,
   "metadata": {
    "scrolled": true
   },
   "outputs": [
    {
     "name": "stdout",
     "output_type": "stream",
     "text": [
      "The correlated coefficient of LotFrontage and BsmtFinSF1 is nan.\n",
      "The correlated coefficient of LotArea and BsmtFinSF1 is 0.21410313070557696.\n",
      "The correlated coefficient of YearBuilt and BsmtFinSF1 is 0.2495031966847975.\n",
      "The correlated coefficient of YearRemodAdd and BsmtFinSF1 is 0.1284505471282888.\n",
      "The correlated coefficient of MasVnrArea and BsmtFinSF1 is nan.\n",
      "The correlated coefficient of BsmtFinSF1 and BsmtFinSF1 is 1.0.\n",
      "The correlated coefficient of BsmtUnfSF and BsmtFinSF1 is -0.4952514692570121.\n",
      "The correlated coefficient of TotalBsmtSF and BsmtFinSF1 is 0.5223960519923857.\n",
      "The correlated coefficient of 1stFlrSF and BsmtFinSF1 is 0.44586265609200504.\n",
      "The correlated coefficient of 2ndFlrSF and BsmtFinSF1 is -0.13707898608005353.\n",
      "The correlated coefficient of GrLivArea and BsmtFinSF1 is 0.20817113014532684.\n",
      "The correlated coefficient of BsmtFullBath and BsmtFinSF1 is 0.6492117535742649.\n",
      "The correlated coefficient of FullBath and BsmtFinSF1 is 0.05854313686159519.\n",
      "The correlated coefficient of HalfBath and BsmtFinSF1 is 0.004262424384486885.\n",
      "The correlated coefficient of BedroomAbvGr and BsmtFinSF1 is -0.10735467682307033.\n",
      "The correlated coefficient of TotRmsAbvGrd and BsmtFinSF1 is 0.04431562391292078.\n",
      "The correlated coefficient of Fireplaces and BsmtFinSF1 is 0.26001092023504063.\n",
      "The correlated coefficient of GarageYrBlt and BsmtFinSF1 is nan.\n",
      "The correlated coefficient of GarageCars and BsmtFinSF1 is 0.22405352239399134.\n",
      "The correlated coefficient of GarageArea and BsmtFinSF1 is 0.29697038534451303.\n",
      "The correlated coefficient of WoodDeckSF and BsmtFinSF1 is 0.2043061452374027.\n",
      "The correlated coefficient of OpenPorchSF and BsmtFinSF1 is 0.11176061335675082.\n",
      "The correlated coefficient of MoSold and BsmtFinSF1 is -0.01572694826215465.\n",
      "The correlated coefficient of YrSold and BsmtFinSF1 is 0.014358922393912272.\n",
      "The correlated coefficient of SalePrice and BsmtFinSF1 is 0.38641980624215316.\n"
     ]
    }
   ],
   "source": [
    "new_col = ['LotFrontage', 'LotArea', 'YearBuilt', 'YearRemodAdd', 'MasVnrArea', 'BsmtFinSF1', \n",
    "           'BsmtUnfSF', 'TotalBsmtSF', '1stFlrSF', '2ndFlrSF', 'GrLivArea', 'BsmtFullBath',\n",
    "           'FullBath','HalfBath', 'BedroomAbvGr', 'TotRmsAbvGrd', 'Fireplaces', 'GarageYrBlt', \n",
    "           'GarageCars', 'GarageArea', 'WoodDeckSF', 'OpenPorchSF', 'MoSold', 'YrSold', 'SalePrice']\n",
    "for column in new_col:\n",
    "    cor_mat = np.corrcoef(df[column], df['BsmtFinSF1'])\n",
    "    print('The correlated coefficient of '+ column +' and BsmtFinSF1 is '+  str(cor_mat[0,1])+'.')"
   ]
  },
  {
   "cell_type": "markdown",
   "metadata": {},
   "source": [
    "BsmtFullBath 0.6492117535742649\n",
    "TotalBsmtSF 0.5223960519923857\n",
    "1stFlrSF 0.44586265609200504\n",
    "BsmtUnfSF -0.4952514692570121\n",
    "GarageArea 0.29697038534451303\n"
   ]
  },
  {
   "cell_type": "code",
   "execution_count": 13,
   "metadata": {
    "scrolled": true
   },
   "outputs": [
    {
     "data": {
      "image/png": "[encoded data removed]",
      "text/plain": [
       "<Figure size 432x288 with 1 Axes>"
      ]
     },
     "metadata": {
      "needs_background": "light"
     },
     "output_type": "display_data"
    }
   ],
   "source": [
    "plt.figure()\n",
    "plt.scatter(new_df1['BsmtFullBath'], new_df1['BsmtFinSF1'])\n",
    "plt.xlabel('BsmtFullBath')\n",
    "plt.ylabel('BsmtFinSF1')\n",
    "plt.title('Correlation between BsmtFinSF1 & BsmtFullBath')\n",
    "plt.show()"
   ]
  },
  {
   "cell_type": "code",
   "execution_count": 14,
   "metadata": {
    "scrolled": false
   },
   "outputs": [
    {
     "data": {
      "image/png": "[encoded data removed]",
      "text/plain": [
       "<Figure size 432x288 with 1 Axes>"
      ]
     },
     "metadata": {
      "needs_background": "light"
     },
     "output_type": "display_data"
    }
   ],
   "source": [
    "plt.figure()\n",
    "plt.scatter(new_df1['TotalBsmtSF'], new_df1['BsmtFinSF1'])\n",
    "plt.xlabel('TotalBsmtSF')\n",
    "plt.ylabel('BsmtFinSF1')\n",
    "plt.title('Correlation between BsmtFinSF1 & TotalBsmtSF')\n",
    "plt.show()"
   ]
  },
  {
   "cell_type": "code",
   "execution_count": 15,
   "metadata": {
    "scrolled": true
   },
   "outputs": [
    {
     "name": "stdout",
     "output_type": "stream",
     "text": [
      "(619, 23)\n"
     ]
    }
   ],
   "source": [
    "drop = ['TotalBsmtSF','BsmtFullBath']\n",
    "for num in drop:\n",
    "    del new_df1[num]\n",
    "print(new_df1.shape)"
   ]
  },
  {
   "cell_type": "markdown",
   "metadata": {},
   "source": [
    "# Question 7"
   ]
  },
  {
   "cell_type": "code",
   "execution_count": 16,
   "metadata": {},
   "outputs": [
    {
     "name": "stdout",
     "output_type": "stream",
     "text": [
      "(1460, 78)\n"
     ]
    }
   ],
   "source": [
    "att_drop = ['Alley','BldgType','GarageCond']\n",
    "for num in att_drop:\n",
    "    del df[num]\n",
    "print(df.shape)"
   ]
  },
  {
   "cell_type": "code",
   "execution_count": null,
   "metadata": {},
   "outputs": [],
   "source": []
  },
  {
   "cell_type": "markdown",
   "metadata": {},
   "source": [
    "# Question 8"
   ]
  },
  {
   "cell_type": "code",
   "execution_count": 17,
   "metadata": {},
   "outputs": [
    {
     "name": "stdout",
     "output_type": "stream",
     "text": [
      "67.546\n",
      "9029.256865912763\n",
      "1981.421647819063\n",
      "1989.1211631663973\n",
      "72.82247557003258\n",
      "436.5525040387722\n",
      "603.096930533118\n",
      "1099.6720516962844\n",
      "1411.5266558966075\n",
      "1.5783521809369951\n",
      "0.3861066235864297\n",
      "2.7722132471728593\n",
      "6.24232633279483\n",
      "0.518578352180937\n",
      "1985.1099830795263\n",
      "1.7867528271405493\n",
      "469.5831987075929\n",
      "86.58158319870759\n",
      "40.508885298869146\n",
      "6.345718901453958\n",
      "2007.7883683360258\n",
      "175708.5379644588\n",
      "      LotFrontage  LotArea  YearBuilt  YearRemodAdd  MasVnrArea  BsmtFinSF1  \\\n",
      "0          65.000     8450       2003          2003       196.0         706   \n",
      "2          68.000    11250       2001          2002       162.0         486   \n",
      "4          84.000    14260       2000          2000       350.0         655   \n",
      "6          75.000    10084       2004          2005       186.0        1369   \n",
      "10         70.000    11200       1965          1965         0.0         906   \n",
      "13         91.000    10652       2006          2007       306.0           0   \n",
      "15         51.000     6120       1929          2001         0.0           0   \n",
      "18         66.000    13695       2004          2004         0.0         646   \n",
      "19         70.000     7560       1958          1965         0.0         504   \n",
      "20        101.000    14215       2005          2006       380.0           0   \n",
      "23         44.000     4224       1976          1976         0.0         840   \n",
      "27         98.000    11478       2007          2008       200.0        1218   \n",
      "31         67.546     8544       1966          2006         0.0           0   \n",
      "32         85.000    11049       2007          2007         0.0           0   \n",
      "34         60.000     7313       2005          2005       246.0        1153   \n",
      "35        108.000    13418       2004          2005       132.0           0   \n",
      "38         68.000     7922       1953          2007         0.0         731   \n",
      "40         84.000     8658       1965          1965       101.0         643   \n",
      "45         61.000     7658       2005          2005       412.0         456   \n",
      "47         84.000    11096       2006          2006         0.0          24   \n",
      "49         66.000     7742       1966          1966         0.0         763   \n",
      "54         60.000     7134       1955          1955         0.0         384   \n",
      "57         89.000    11645       2004          2004         0.0           0   \n",
      "59         60.000     7200       1972          1972         0.0         632   \n",
      "60         63.000    13072       2004          2004         0.0         941   \n",
      "62         44.000     6442       2006          2006       178.0          24   \n",
      "65         76.000     9591       2004          2005       344.0           0   \n",
      "67         72.000    10665       2003          2003       167.0        1013   \n",
      "68         47.000     4608       1945          1950         0.0           0   \n",
      "71         69.000     7599       1982          2006         0.0         565   \n",
      "...           ...      ...        ...           ...         ...         ...   \n",
      "1392       68.000     7838       1967          1967         0.0         769   \n",
      "1394       53.000     4045       2006          2006        45.0        1070   \n",
      "1395       88.000    12665       2005          2006       245.0           0   \n",
      "1399       51.000     6171       1925          1990         0.0         264   \n",
      "1401       62.000     7415       2004          2004         0.0         759   \n",
      "1402       64.000     6762       2006          2006         0.0           0   \n",
      "1403       49.000    15256       2007          2007        84.0         929   \n",
      "1406       70.000     8445       1972          2007         0.0         656   \n",
      "1407       67.546     8780       1985          1985         0.0         625   \n",
      "1410       79.000    12420       2001          2001         0.0         666   \n",
      "1411       80.000     9600       1950          2005         0.0         120   \n",
      "1413       88.000    10994       2005          2006       366.0         976   \n",
      "1422       37.000     4435       2003          2003       170.0         686   \n",
      "1425       80.000    10721       1959          1959       243.0           0   \n",
      "1427       60.000    10930       1945          1950         0.0         580   \n",
      "1431       67.546     4928       1976          1976         0.0         958   \n",
      "1432       60.000    10800       1927          2007         0.0           0   \n",
      "1433       93.000    10261       2000          2000       318.0           0   \n",
      "1434       80.000    17400       1977          1977         0.0         936   \n",
      "1435       80.000     8400       1962          2005       237.0           0   \n",
      "1436       60.000     9000       1971          1971         0.0         616   \n",
      "1441       67.546     4426       2004          2004       147.0         697   \n",
      "1442       85.000    11003       2008          2008       160.0         765   \n",
      "1444       63.000     8500       2004          2004       106.0           0   \n",
      "1448       70.000    11767       1910          2000         0.0           0   \n",
      "1451       78.000     9262       2008          2009       194.0           0   \n",
      "1452       35.000     3675       2005          2005        80.0         547   \n",
      "1453       90.000    17217       2006          2006         0.0           0   \n",
      "1454       62.000     7500       2004          2005         0.0         410   \n",
      "1455       62.000     7917       1999          2000         0.0           0   \n",
      "\n",
      "      BsmtUnfSF  1stFlrSF  2ndFlrSF  GrLivArea  ...  TotRmsAbvGrd  Fireplaces  \\\n",
      "0           150       856       854       1710  ...             8           0   \n",
      "2           434       920       866       1786  ...             6           1   \n",
      "4           490      1145      1053       2198  ...             9           1   \n",
      "6           317      1694         0       1694  ...             7           1   \n",
      "10          134      1040         0       1040  ...             5           0   \n",
      "13         1494      1494         0       1494  ...             7           1   \n",
      "15          832       854         0        854  ...             5           0   \n",
      "18          468      1114         0       1114  ...             6           0   \n",
      "19          525      1339         0       1339  ...             6           0   \n",
      "20         1158      1158      1218       2376  ...             9           1   \n",
      "23          200      1060         0       1060  ...             6           1   \n",
      "27          486      1704         0       1704  ...             7           1   \n",
      "31         1228      1228         0       1228  ...             6           0   \n",
      "32         1234      1234         0       1234  ...             7           0   \n",
      "34          408      1561         0       1561  ...             6           1   \n",
      "35         1117      1132      1320       2452  ...             9           1   \n",
      "38          326      1057         0       1057  ...             5           0   \n",
      "40          445      1324         0       1324  ...             6           1   \n",
      "45         1296      1752         0       1752  ...             6           1   \n",
      "47         1632      1656         0       1656  ...             7           0   \n",
      "49          192       955         0        955  ...             6           0   \n",
      "54            0      1360         0       1360  ...             6           1   \n",
      "57          860       860       860       1720  ...             7           0   \n",
      "59          148       780         0        780  ...             4           0   \n",
      "60          217      1158         0       1158  ...             5           0   \n",
      "62         1346      1370         0       1370  ...             6           1   \n",
      "65         1143      1143      1330       2473  ...             9           1   \n",
      "67          440      1479         0       1479  ...             7           0   \n",
      "68          747       747         0        747  ...             4           0   \n",
      "71          280       845         0        845  ...             4           0   \n",
      "...         ...       ...       ...        ...  ...           ...         ...   \n",
      "1392         95       900         0        900  ...             6           1   \n",
      "1394        286      1500         0       1500  ...             6           1   \n",
      "1395       1094      1133      1349       2482  ...             9           1   \n",
      "1399        712      1160       448       1608  ...             7           1   \n",
      "1401         80       864       729       1593  ...             8           1   \n",
      "1402       1286      1294         0       1294  ...             6           1   \n",
      "1403        556      1464         0       1464  ...             6           0   \n",
      "1406        112       768         0        768  ...             5           0   \n",
      "1407        208       833         0        833  ...             5           0   \n",
      "1410        278       944       896       1840  ...             6           0   \n",
      "1411        736      1112       556       1668  ...             6           0   \n",
      "1413        868      1844         0       1844  ...             7           1   \n",
      "1422        162       848         0        848  ...             3           0   \n",
      "1425       1252      1252         0       1252  ...             7           0   \n",
      "1427        333      1048       510       1558  ...             6           1   \n",
      "1431          0       958         0        958  ...             5           0   \n",
      "1432        656       968         0        968  ...             5           0   \n",
      "1433        936       962       830       1792  ...             8           1   \n",
      "1434        190      1126         0       1126  ...             5           1   \n",
      "1435       1319      1537         0       1537  ...             7           1   \n",
      "1436        248       864         0        864  ...             5           0   \n",
      "1441        151       848         0        848  ...             3           1   \n",
      "1442        252      1026       981       2007  ...            10           1   \n",
      "1444       1422      1422         0       1422  ...             7           0   \n",
      "1448        560       796       550       1346  ...             6           0   \n",
      "1451       1573      1578         0       1578  ...             7           1   \n",
      "1452          0      1072         0       1072  ...             5           0   \n",
      "1453       1140      1140         0       1140  ...             6           0   \n",
      "1454        811      1221         0       1221  ...             6           0   \n",
      "1455        953       953       694       1647  ...             7           1   \n",
      "\n",
      "      GarageYrBlt  GarageCars  GarageArea  WoodDeckSF  OpenPorchSF  MoSold  \\\n",
      "0     2003.000000           2         548           0           61       2   \n",
      "2     2001.000000           2         608           0           42       9   \n",
      "4     2000.000000           3         836         192           84      12   \n",
      "6     2004.000000           2         636         255           57       8   \n",
      "10    1965.000000           1         384           0            0       2   \n",
      "13    2006.000000           3         840         160           33       8   \n",
      "15    1991.000000           2         576          48          112       7   \n",
      "18    2004.000000           2         576           0          102       6   \n",
      "19    1958.000000           1         294           0            0       5   \n",
      "20    2005.000000           3         853         240          154      11   \n",
      "23    1976.000000           2         572         100          110       6   \n",
      "27    2008.000000           3         772           0           50       5   \n",
      "31    1966.000000           1         271           0           65       6   \n",
      "32    2007.000000           2         484           0           30       1   \n",
      "34    2005.000000           2         556         203           47       8   \n",
      "35    2004.000000           3         691         113           32       9   \n",
      "38    1953.000000           1         246           0           52       1   \n",
      "40    1965.000000           2         440           0          138      12   \n",
      "45    2005.000000           2         576         196           82       2   \n",
      "47    2006.000000           3         826           0          146       7   \n",
      "49    1966.000000           1         386           0            0       1   \n",
      "54    1962.000000           2         572           0           50       2   \n",
      "57    2004.000000           2         565           0           70       8   \n",
      "59    1973.000000           1         352         196            0       1   \n",
      "60    2006.000000           2         576           0           50       5   \n",
      "62    2006.000000           2         484         120           49      10   \n",
      "65    2004.000000           3         852         192          151      10   \n",
      "67    2003.000000           2         558         144           29       6   \n",
      "68    1945.000000           1         220           0            0       6   \n",
      "71    1987.000000           2         360           0            0       6   \n",
      "...           ...         ...         ...         ...          ...     ...   \n",
      "1392  1967.000000           1         288         175          144      12   \n",
      "1394  2006.000000           3         648         161           20      10   \n",
      "1395  2005.000000           3         642         144           39       2   \n",
      "1399  1925.000000           1         216         147           16      10   \n",
      "1401  2004.000000           2         398         100           75       4   \n",
      "1402  2006.000000           2         662         168           55       7   \n",
      "1403  2007.000000           3         754         168          160       8   \n",
      "1406  1988.000000           2         396          58            0       3   \n",
      "1407  1985.109983           0           0           0            0       3   \n",
      "1410  2001.000000           2         622           0           45       6   \n",
      "1411  1950.000000           1         271           0            0       9   \n",
      "1413  2005.000000           2         620         165           44       9   \n",
      "1422  2003.000000           2         420         140            0       3   \n",
      "1425  1960.000000           2         528           0           39      10   \n",
      "1427  1962.000000           1         288           0            0       4   \n",
      "1431  1976.000000           2         440           0           60      10   \n",
      "1432  1928.000000           1         216           0            0       8   \n",
      "1433  2000.000000           2         451           0            0       5   \n",
      "1434  1977.000000           2         484         295           41       5   \n",
      "1435  1962.000000           2         462           0           36       7   \n",
      "1436  1974.000000           2         528           0            0       5   \n",
      "1441  2004.000000           2         420         149            0       5   \n",
      "1442  2008.000000           3         812         168           52       4   \n",
      "1444  2004.000000           2         626         192           60      11   \n",
      "1448  1950.000000           1         384         168           24       5   \n",
      "1451  2008.000000           3         840           0           36       5   \n",
      "1452  2005.000000           2         525           0           28       5   \n",
      "1453  1985.109983           0           0          36           56       7   \n",
      "1454  2004.000000           2         400           0          113      10   \n",
      "1455  1999.000000           2         460           0           40       8   \n",
      "\n",
      "      YrSold  SalePrice  \n",
      "0       2008     208500  \n",
      "2       2008     223500  \n",
      "4       2008     250000  \n",
      "6       2007     307000  \n",
      "10      2008     129500  \n",
      "13      2007     279500  \n",
      "15      2007     132000  \n",
      "18      2008     159000  \n",
      "19      2009     139000  \n",
      "20      2006     325300  \n",
      "23      2007     129900  \n",
      "27      2010     306000  \n",
      "31      2008     149350  \n",
      "32      2008     179900  \n",
      "34      2007     277500  \n",
      "35      2006     309000  \n",
      "38      2010     109000  \n",
      "40      2006     160000  \n",
      "45      2010     319900  \n",
      "47      2007     249700  \n",
      "49      2007     127000  \n",
      "54      2007     130000  \n",
      "57      2006     196500  \n",
      "59      2008     124900  \n",
      "60      2006     158000  \n",
      "62      2007     202500  \n",
      "65      2007     317000  \n",
      "67      2007     226000  \n",
      "68      2010      80000  \n",
      "71      2007     129500  \n",
      "...      ...        ...  \n",
      "1392    2006     123000  \n",
      "1394    2006     246578  \n",
      "1395    2007     281213  \n",
      "1399    2009     137450  \n",
      "1401    2008     193000  \n",
      "1402    2006     193879  \n",
      "1403    2007     282922  \n",
      "1406    2009     133000  \n",
      "1407    2009     112000  \n",
      "1410    2009     230000  \n",
      "1411    2009     140000  \n",
      "1413    2009     257000  \n",
      "1422    2008     136500  \n",
      "1425    2008     142000  \n",
      "1427    2008     140000  \n",
      "1431    2009     143750  \n",
      "1432    2007      64500  \n",
      "1433    2008     186500  \n",
      "1434    2006     160000  \n",
      "1435    2008     174000  \n",
      "1436    2007     120500  \n",
      "1441    2008     149300  \n",
      "1442    2009     310000  \n",
      "1444    2007     179600  \n",
      "1448    2007     112000  \n",
      "1451    2009     287090  \n",
      "1452    2006     145000  \n",
      "1453    2006      84500  \n",
      "1454    2009     185000  \n",
      "1455    2007     175000  \n",
      "\n",
      "[619 rows x 23 columns]\n"
     ]
    }
   ],
   "source": [
    "new_col = ['LotFrontage', 'LotArea', 'YearBuilt', 'YearRemodAdd', 'MasVnrArea', 'BsmtFinSF1', \n",
    "           'BsmtUnfSF', '1stFlrSF', 'GrLivArea',\n",
    "           'FullBath','HalfBath', 'BedroomAbvGr', 'TotRmsAbvGrd', 'Fireplaces', 'GarageYrBlt', \n",
    "           'GarageCars', 'GarageArea', 'WoodDeckSF', 'OpenPorchSF', 'MoSold', 'YrSold', 'SalePrice']\n",
    "for col in new_col:\n",
    "    mean = new_df1[col].mean()\n",
    "    print(mean)\n",
    "    new_df1 = new_df1.fillna({col : mean})\n",
    "print(new_df1)"
   ]
  },
  {
   "cell_type": "code",
   "execution_count": 18,
   "metadata": {
    "scrolled": true
   },
   "outputs": [
    {
     "name": "stdout",
     "output_type": "stream",
     "text": [
      "LotFrontage     0\n",
      "LotArea         0\n",
      "YearBuilt       0\n",
      "YearRemodAdd    0\n",
      "MasVnrArea      0\n",
      "BsmtFinSF1      0\n",
      "BsmtUnfSF       0\n",
      "1stFlrSF        0\n",
      "2ndFlrSF        0\n",
      "GrLivArea       0\n",
      "FullBath        0\n",
      "HalfBath        0\n",
      "BedroomAbvGr    0\n",
      "TotRmsAbvGrd    0\n",
      "Fireplaces      0\n",
      "GarageYrBlt     0\n",
      "GarageCars      0\n",
      "GarageArea      0\n",
      "WoodDeckSF      0\n",
      "OpenPorchSF     0\n",
      "MoSold          0\n",
      "YrSold          0\n",
      "SalePrice       0\n",
      "dtype: int64\n"
     ]
    }
   ],
   "source": [
    "print(new_df1.isna().sum())"
   ]
  },
  {
   "cell_type": "markdown",
   "metadata": {},
   "source": [
    "# Question 9"
   ]
  },
  {
   "cell_type": "code",
   "execution_count": 19,
   "metadata": {
    "scrolled": true
   },
   "outputs": [
    {
     "data": {
      "text/plain": [
       "None       864\n",
       "BrkFace    445\n",
       "Stone      128\n",
       "BrkCmn      15\n",
       "Name: MasVnrType, dtype: int64"
      ]
     },
     "execution_count": 19,
     "metadata": {},
     "output_type": "execute_result"
    }
   ],
   "source": [
    "df['MasVnrType'].value_counts()  #before fillin none with BrkFace"
   ]
  },
  {
   "cell_type": "code",
   "execution_count": 20,
   "metadata": {
    "scrolled": true
   },
   "outputs": [
    {
     "name": "stdout",
     "output_type": "stream",
     "text": [
      "0       BrkFace\n",
      "1       BrkFace\n",
      "2       BrkFace\n",
      "3       BrkFace\n",
      "4       BrkFace\n",
      "5       BrkFace\n",
      "6         Stone\n",
      "7         Stone\n",
      "8       BrkFace\n",
      "9       BrkFace\n",
      "10      BrkFace\n",
      "11        Stone\n",
      "12      BrkFace\n",
      "13        Stone\n",
      "14      BrkFace\n",
      "15      BrkFace\n",
      "16      BrkFace\n",
      "17      BrkFace\n",
      "18      BrkFace\n",
      "19      BrkFace\n",
      "20      BrkFace\n",
      "21      BrkFace\n",
      "22      BrkFace\n",
      "23      BrkFace\n",
      "24      BrkFace\n",
      "25        Stone\n",
      "26      BrkFace\n",
      "27        Stone\n",
      "28      BrkFace\n",
      "29      BrkFace\n",
      "         ...   \n",
      "1430    BrkFace\n",
      "1431    BrkFace\n",
      "1432    BrkFace\n",
      "1433    BrkFace\n",
      "1434    BrkFace\n",
      "1435    BrkFace\n",
      "1436    BrkFace\n",
      "1437      Stone\n",
      "1438    BrkFace\n",
      "1439    BrkFace\n",
      "1440    BrkFace\n",
      "1441    BrkFace\n",
      "1442      Stone\n",
      "1443    BrkFace\n",
      "1444    BrkFace\n",
      "1445    BrkFace\n",
      "1446    BrkFace\n",
      "1447    BrkFace\n",
      "1448    BrkFace\n",
      "1449    BrkFace\n",
      "1450    BrkFace\n",
      "1451      Stone\n",
      "1452    BrkFace\n",
      "1453    BrkFace\n",
      "1454    BrkFace\n",
      "1455    BrkFace\n",
      "1456      Stone\n",
      "1457    BrkFace\n",
      "1458    BrkFace\n",
      "1459    BrkFace\n",
      "Name: MasVnrType, Length: 1460, dtype: object\n"
     ]
    }
   ],
   "source": [
    "df[df['MasVnrType'] == 'None'] = np.nan\n",
    "df['MasVnrType'] = df['MasVnrType'].fillna('BrkFace')\n",
    "print(df['MasVnrType'])"
   ]
  },
  {
   "cell_type": "code",
   "execution_count": 21,
   "metadata": {
    "scrolled": true
   },
   "outputs": [
    {
     "data": {
      "text/plain": [
       "BrkFace    1317\n",
       "Stone       128\n",
       "BrkCmn       15\n",
       "Name: MasVnrType, dtype: int64"
      ]
     },
     "execution_count": 21,
     "metadata": {},
     "output_type": "execute_result"
    }
   ],
   "source": [
    "df['MasVnrType'].value_counts() #after fillin none with BrkFace"
   ]
  },
  {
   "cell_type": "code",
   "execution_count": 22,
   "metadata": {},
   "outputs": [
    {
     "name": "stdout",
     "output_type": "stream",
     "text": [
      "0\n"
     ]
    }
   ],
   "source": [
    "print(df['MasVnrType'].isna().sum())"
   ]
  },
  {
   "cell_type": "code",
   "execution_count": 23,
   "metadata": {},
   "outputs": [
    {
     "data": {
      "text/plain": [
       "SBrkr    578\n",
       "FuseA     12\n",
       "FuseF      6\n",
       "Name: Electrical, dtype: int64"
      ]
     },
     "execution_count": 23,
     "metadata": {},
     "output_type": "execute_result"
    }
   ],
   "source": [
    "df['Electrical'].value_counts() #after fillin nan with SBrkr"
   ]
  },
  {
   "cell_type": "code",
   "execution_count": 24,
   "metadata": {
    "scrolled": true
   },
   "outputs": [
    {
     "name": "stdout",
     "output_type": "stream",
     "text": [
      "0       SBrkr\n",
      "1       SBrkr\n",
      "2       SBrkr\n",
      "3       SBrkr\n",
      "4       SBrkr\n",
      "5       SBrkr\n",
      "6       SBrkr\n",
      "7       SBrkr\n",
      "8       SBrkr\n",
      "9       SBrkr\n",
      "10      SBrkr\n",
      "11      SBrkr\n",
      "12      SBrkr\n",
      "13      SBrkr\n",
      "14      SBrkr\n",
      "15      SBrkr\n",
      "16      SBrkr\n",
      "17      SBrkr\n",
      "18      SBrkr\n",
      "19      SBrkr\n",
      "20      SBrkr\n",
      "21      SBrkr\n",
      "22      SBrkr\n",
      "23      SBrkr\n",
      "24      SBrkr\n",
      "25      SBrkr\n",
      "26      SBrkr\n",
      "27      SBrkr\n",
      "28      SBrkr\n",
      "29      SBrkr\n",
      "        ...  \n",
      "1430    SBrkr\n",
      "1431    SBrkr\n",
      "1432    SBrkr\n",
      "1433    SBrkr\n",
      "1434    SBrkr\n",
      "1435    SBrkr\n",
      "1436    SBrkr\n",
      "1437    SBrkr\n",
      "1438    SBrkr\n",
      "1439    SBrkr\n",
      "1440    SBrkr\n",
      "1441    SBrkr\n",
      "1442    SBrkr\n",
      "1443    SBrkr\n",
      "1444    SBrkr\n",
      "1445    SBrkr\n",
      "1446    SBrkr\n",
      "1447    SBrkr\n",
      "1448    SBrkr\n",
      "1449    SBrkr\n",
      "1450    SBrkr\n",
      "1451    SBrkr\n",
      "1452    SBrkr\n",
      "1453    SBrkr\n",
      "1454    SBrkr\n",
      "1455    SBrkr\n",
      "1456    SBrkr\n",
      "1457    SBrkr\n",
      "1458    SBrkr\n",
      "1459    SBrkr\n",
      "Name: Electrical, Length: 1460, dtype: object\n"
     ]
    }
   ],
   "source": [
    "df['Electrical'] = df['Electrical'].fillna('SBrkr')\n",
    "print(df['Electrical'])"
   ]
  },
  {
   "cell_type": "code",
   "execution_count": 25,
   "metadata": {
    "scrolled": true
   },
   "outputs": [
    {
     "data": {
      "text/plain": [
       "SBrkr    1442\n",
       "FuseA      12\n",
       "FuseF       6\n",
       "Name: Electrical, dtype: int64"
      ]
     },
     "execution_count": 25,
     "metadata": {},
     "output_type": "execute_result"
    }
   ],
   "source": [
    "df['Electrical'].value_counts() #after fillin nan with SBrkr"
   ]
  },
  {
   "cell_type": "code",
   "execution_count": 26,
   "metadata": {},
   "outputs": [
    {
     "name": "stdout",
     "output_type": "stream",
     "text": [
      "0\n"
     ]
    }
   ],
   "source": [
    "print(df['Electrical'].isna().sum())"
   ]
  },
  {
   "cell_type": "markdown",
   "metadata": {},
   "source": [
    "# Question 10"
   ]
  },
  {
   "cell_type": "code",
   "execution_count": 27,
   "metadata": {
    "scrolled": true
   },
   "outputs": [
    {
     "name": "stdout",
     "output_type": "stream",
     "text": [
      "[[6.5000e+01 8.4500e+03 2.0030e+03 ... 2.0000e+00 2.0080e+03 2.0850e+05]\n",
      " [6.8000e+01 1.1250e+04 2.0010e+03 ... 9.0000e+00 2.0080e+03 2.2350e+05]\n",
      " [8.4000e+01 1.4260e+04 2.0000e+03 ... 1.2000e+01 2.0080e+03 2.5000e+05]\n",
      " ...\n",
      " [9.0000e+01 1.7217e+04 2.0060e+03 ... 7.0000e+00 2.0060e+03 8.4500e+04]\n",
      " [6.2000e+01 7.5000e+03 2.0040e+03 ... 1.0000e+01 2.0090e+03 1.8500e+05]\n",
      " [6.2000e+01 7.9170e+03 1.9990e+03 ... 8.0000e+00 2.0070e+03 1.7500e+05]]\n"
     ]
    }
   ],
   "source": [
    "arr_num = new_df1.to_numpy()\n",
    "print(arr_num)"
   ]
  },
  {
   "cell_type": "code",
   "execution_count": 28,
   "metadata": {},
   "outputs": [
    {
     "name": "stdout",
     "output_type": "stream",
     "text": [
      "[[-0.18146126 -0.20115518  0.8206433  ... -1.64499382  0.15866379\n",
      "   0.5766432 ]\n",
      " [ 0.03235798  0.77118461  0.74458158 ...  1.00473042  0.15866379\n",
      "   0.84042064]\n",
      " [ 1.17272727  1.81644988  0.70655072 ...  2.14032653  0.15866379\n",
      "   1.30642746]\n",
      " ...\n",
      " [ 1.60036576  2.84331015  0.93473588 ...  0.24766636 -1.34076962\n",
      "  -1.60391699]\n",
      " [-0.39528051 -0.53105618  0.85867416 ...  1.38326246  0.9083805\n",
      "   0.16339187]\n",
      " [-0.39528051 -0.386247    0.66851986 ...  0.62619839 -0.59105291\n",
      "  -0.01245976]]\n"
     ]
    }
   ],
   "source": [
    "from sklearn.preprocessing import StandardScaler\n",
    "scaler = StandardScaler().fit(arr_num)\n",
    "scaled_data = scaler.transform(arr_num)\n",
    "print(scaled_data)"
   ]
  },
  {
   "cell_type": "code",
   "execution_count": 29,
   "metadata": {
    "scrolled": true
   },
   "outputs": [
    {
     "data": {
      "text/html": [
       "<div>\n",
       "<style scoped>\n",
       "    .dataframe tbody tr th:only-of-type {\n",
       "        vertical-align: middle;\n",
       "    }\n",
       "\n",
       "    .dataframe tbody tr th {\n",
       "        vertical-align: top;\n",
       "    }\n",
       "\n",
       "    .dataframe thead th {\n",
       "        text-align: right;\n",
       "    }\n",
       "</style>\n",
       "<table border=\"1\" class=\"dataframe\">\n",
       "  <thead>\n",
       "    <tr style=\"text-align: right;\">\n",
       "      <th></th>\n",
       "      <th>0</th>\n",
       "      <th>1</th>\n",
       "      <th>2</th>\n",
       "      <th>3</th>\n",
       "      <th>4</th>\n",
       "      <th>5</th>\n",
       "      <th>6</th>\n",
       "      <th>7</th>\n",
       "      <th>8</th>\n",
       "      <th>9</th>\n",
       "      <th>...</th>\n",
       "      <th>13</th>\n",
       "      <th>14</th>\n",
       "      <th>15</th>\n",
       "      <th>16</th>\n",
       "      <th>17</th>\n",
       "      <th>18</th>\n",
       "      <th>19</th>\n",
       "      <th>20</th>\n",
       "      <th>21</th>\n",
       "      <th>22</th>\n",
       "    </tr>\n",
       "  </thead>\n",
       "  <tbody>\n",
       "    <tr>\n",
       "      <th>0</th>\n",
       "      <td>-0.181461</td>\n",
       "      <td>-0.201155</td>\n",
       "      <td>0.820643</td>\n",
       "      <td>0.699751</td>\n",
       "      <td>1.185919</td>\n",
       "      <td>0.665601</td>\n",
       "      <td>-1.081355</td>\n",
       "      <td>-0.833469</td>\n",
       "      <td>1.313304</td>\n",
       "      <td>0.746914</td>\n",
       "      <td>...</td>\n",
       "      <td>1.329658</td>\n",
       "      <td>-0.893447</td>\n",
       "      <td>0.792066</td>\n",
       "      <td>0.316023</td>\n",
       "      <td>0.416492</td>\n",
       "      <td>-0.877918</td>\n",
       "      <td>0.462909</td>\n",
       "      <td>-1.644994</td>\n",
       "      <td>0.158664</td>\n",
       "      <td>0.576643</td>\n",
       "    </tr>\n",
       "    <tr>\n",
       "      <th>1</th>\n",
       "      <td>0.032358</td>\n",
       "      <td>0.771185</td>\n",
       "      <td>0.744582</td>\n",
       "      <td>0.649333</td>\n",
       "      <td>0.858577</td>\n",
       "      <td>0.122147</td>\n",
       "      <td>-0.403564</td>\n",
       "      <td>-0.614560</td>\n",
       "      <td>1.342373</td>\n",
       "      <td>0.937100</td>\n",
       "      <td>...</td>\n",
       "      <td>-0.183317</td>\n",
       "      <td>0.829431</td>\n",
       "      <td>0.703517</td>\n",
       "      <td>0.316023</td>\n",
       "      <td>0.735167</td>\n",
       "      <td>-0.877918</td>\n",
       "      <td>0.033685</td>\n",
       "      <td>1.004730</td>\n",
       "      <td>0.158664</td>\n",
       "      <td>0.840421</td>\n",
       "    </tr>\n",
       "    <tr>\n",
       "      <th>2</th>\n",
       "      <td>1.172727</td>\n",
       "      <td>1.816450</td>\n",
       "      <td>0.706551</td>\n",
       "      <td>0.548495</td>\n",
       "      <td>2.668589</td>\n",
       "      <td>0.539619</td>\n",
       "      <td>-0.269916</td>\n",
       "      <td>0.155042</td>\n",
       "      <td>1.795366</td>\n",
       "      <td>1.968108</td>\n",
       "      <td>...</td>\n",
       "      <td>2.086146</td>\n",
       "      <td>0.829431</td>\n",
       "      <td>0.659243</td>\n",
       "      <td>1.797979</td>\n",
       "      <td>1.946134</td>\n",
       "      <td>1.068919</td>\n",
       "      <td>0.982495</td>\n",
       "      <td>2.140327</td>\n",
       "      <td>0.158664</td>\n",
       "      <td>1.306427</td>\n",
       "    </tr>\n",
       "    <tr>\n",
       "      <th>3</th>\n",
       "      <td>0.531270</td>\n",
       "      <td>0.366275</td>\n",
       "      <td>0.858674</td>\n",
       "      <td>0.800588</td>\n",
       "      <td>1.089642</td>\n",
       "      <td>2.303372</td>\n",
       "      <td>-0.682795</td>\n",
       "      <td>2.032871</td>\n",
       "      <td>-0.755443</td>\n",
       "      <td>0.706875</td>\n",
       "      <td>...</td>\n",
       "      <td>0.573171</td>\n",
       "      <td>0.829431</td>\n",
       "      <td>0.836340</td>\n",
       "      <td>0.316023</td>\n",
       "      <td>0.883883</td>\n",
       "      <td>1.707725</td>\n",
       "      <td>0.372546</td>\n",
       "      <td>0.626198</td>\n",
       "      <td>-0.591053</td>\n",
       "      <td>2.308782</td>\n",
       "    </tr>\n",
       "    <tr>\n",
       "      <th>4</th>\n",
       "      <td>0.174904</td>\n",
       "      <td>0.753821</td>\n",
       "      <td>-0.624529</td>\n",
       "      <td>-1.216155</td>\n",
       "      <td>-0.701115</td>\n",
       "      <td>1.159650</td>\n",
       "      <td>-1.119540</td>\n",
       "      <td>-0.204105</td>\n",
       "      <td>-0.755443</td>\n",
       "      <td>-0.929726</td>\n",
       "      <td>...</td>\n",
       "      <td>-0.939804</td>\n",
       "      <td>-0.893447</td>\n",
       "      <td>-0.890353</td>\n",
       "      <td>-1.165933</td>\n",
       "      <td>-0.454554</td>\n",
       "      <td>-0.877918</td>\n",
       "      <td>-0.915124</td>\n",
       "      <td>-1.644994</td>\n",
       "      <td>0.158664</td>\n",
       "      <td>-0.812585</td>\n",
       "    </tr>\n",
       "  </tbody>\n",
       "</table>\n",
       "<p>5 rows × 23 columns</p>\n",
       "</div>"
      ],
      "text/plain": [
       "         0         1         2         3         4         5         6   \\\n",
       "0 -0.181461 -0.201155  0.820643  0.699751  1.185919  0.665601 -1.081355   \n",
       "1  0.032358  0.771185  0.744582  0.649333  0.858577  0.122147 -0.403564   \n",
       "2  1.172727  1.816450  0.706551  0.548495  2.668589  0.539619 -0.269916   \n",
       "3  0.531270  0.366275  0.858674  0.800588  1.089642  2.303372 -0.682795   \n",
       "4  0.174904  0.753821 -0.624529 -1.216155 -0.701115  1.159650 -1.119540   \n",
       "\n",
       "         7         8         9   ...        13        14        15        16  \\\n",
       "0 -0.833469  1.313304  0.746914  ...  1.329658 -0.893447  0.792066  0.316023   \n",
       "1 -0.614560  1.342373  0.937100  ... -0.183317  0.829431  0.703517  0.316023   \n",
       "2  0.155042  1.795366  1.968108  ...  2.086146  0.829431  0.659243  1.797979   \n",
       "3  2.032871 -0.755443  0.706875  ...  0.573171  0.829431  0.836340  0.316023   \n",
       "4 -0.204105 -0.755443 -0.929726  ... -0.939804 -0.893447 -0.890353 -1.165933   \n",
       "\n",
       "         17        18        19        20        21        22  \n",
       "0  0.416492 -0.877918  0.462909 -1.644994  0.158664  0.576643  \n",
       "1  0.735167 -0.877918  0.033685  1.004730  0.158664  0.840421  \n",
       "2  1.946134  1.068919  0.982495  2.140327  0.158664  1.306427  \n",
       "3  0.883883  1.707725  0.372546  0.626198 -0.591053  2.308782  \n",
       "4 -0.454554 -0.877918 -0.915124 -1.644994  0.158664 -0.812585  \n",
       "\n",
       "[5 rows x 23 columns]"
      ]
     },
     "metadata": {},
     "output_type": "display_data"
    }
   ],
   "source": [
    "new_df2 = pd.DataFrame(scaled_data)\n",
    "display(new_df2.head())"
   ]
  },
  {
   "cell_type": "code",
   "execution_count": 30,
   "metadata": {
    "scrolled": false
   },
   "outputs": [
    {
     "name": "stdout",
     "output_type": "stream",
     "text": [
      "0    -3.633783e-16\n",
      "1    -9.470077e-17\n",
      "2    -2.944333e-15\n",
      "3     5.342702e-15\n",
      "4     4.986139e-17\n",
      "5    -3.587150e-17\n",
      "6    -1.260883e-16\n",
      "7    -1.077939e-16\n",
      "8     2.977335e-17\n",
      "9    -2.042882e-16\n",
      "10   -2.833849e-17\n",
      "11    5.739441e-18\n",
      "12   -3.165660e-17\n",
      "13    1.481493e-16\n",
      "14    1.477906e-16\n",
      "15   -1.956252e-15\n",
      "16   -1.271645e-16\n",
      "17    4.474970e-17\n",
      "18   -2.582748e-17\n",
      "19   -2.856156e-16\n",
      "20   -1.504810e-16\n",
      "21    5.918744e-14\n",
      "22   -1.113110e-16\n",
      "dtype: float64\n"
     ]
    }
   ],
   "source": [
    "print(new_df2.mean()) #mean of 0"
   ]
  },
  {
   "cell_type": "code",
   "execution_count": 31,
   "metadata": {},
   "outputs": [
    {
     "name": "stdout",
     "output_type": "stream",
     "text": [
      "0     1.001618\n",
      "1     1.001618\n",
      "2     1.001618\n",
      "3     1.001618\n",
      "4     1.001618\n",
      "5     1.001618\n",
      "6     1.001618\n",
      "7     1.001618\n",
      "8     1.001618\n",
      "9     1.001618\n",
      "10    1.001618\n",
      "11    1.001618\n",
      "12    1.001618\n",
      "13    1.001618\n",
      "14    1.001618\n",
      "15    1.001618\n",
      "16    1.001618\n",
      "17    1.001618\n",
      "18    1.001618\n",
      "19    1.001618\n",
      "20    1.001618\n",
      "21    1.001618\n",
      "22    1.001618\n",
      "dtype: float64\n"
     ]
    }
   ],
   "source": [
    "print(new_df2.var()) #variance of 1"
   ]
  },
  {
   "cell_type": "markdown",
   "metadata": {},
   "source": [
    "# Question 11"
   ]
  },
  {
   "cell_type": "code",
   "execution_count": 32,
   "metadata": {
    "scrolled": true
   },
   "outputs": [
    {
     "data": {
      "text/plain": [
       "array([[ 2.04734928e+00,  9.99167412e-01, -7.89414409e-01, ...,\n",
       "        -2.27422085e-01, -8.59491144e-02, -1.74073534e-15],\n",
       "       [ 2.28658652e+00,  9.10326981e-01, -2.60291319e-01, ...,\n",
       "        -1.31296242e-01, -4.10013053e-02, -8.95433397e-16],\n",
       "       [ 5.63128392e+00,  1.67592318e+00,  1.89080333e+00, ...,\n",
       "         1.81914871e-01, -1.14426721e-01, -7.59383222e-16],\n",
       "       ...,\n",
       "       [-1.84346997e+00,  1.03410405e+00, -3.04387281e-01, ...,\n",
       "         8.66281357e-01, -1.94932518e-02, -1.33136136e-17],\n",
       "       [ 1.76494213e-01, -1.96276101e+00, -1.46568772e+00, ...,\n",
       "         2.26155673e-01,  1.85550616e-02, -3.16663678e-17],\n",
       "       [ 1.37195685e+00,  1.13106055e+00, -2.09146830e+00, ...,\n",
       "         1.86327130e-02, -1.45589546e-01,  9.80623739e-18]])"
      ]
     },
     "execution_count": 32,
     "metadata": {},
     "output_type": "execute_result"
    }
   ],
   "source": [
    "from sklearn.decomposition import PCA\n",
    "pca = PCA()\n",
    "pca.fit_transform(scaled_data)"
   ]
  },
  {
   "cell_type": "code",
   "execution_count": 33,
   "metadata": {
    "scrolled": true
   },
   "outputs": [
    {
     "data": {
      "text/plain": [
       "Text(0.5, 1.0, 'Number of component corresponding to explained variance ratio')"
      ]
     },
     "execution_count": 33,
     "metadata": {},
     "output_type": "execute_result"
    },
    {
     "data": {
      "image/png": "[encoded data removed]",
      "text/plain": [
       "<Figure size 432x288 with 1 Axes>"
      ]
     },
     "metadata": {
      "needs_background": "light"
     },
     "output_type": "display_data"
    }
   ],
   "source": [
    "plt.figure()\n",
    "plt.plot(np.cumsum(pca.explained_variance_ratio_))\n",
    "plt.xlabel('number of component')\n",
    "plt.ylabel('cumulative explained variance')\n",
    "plt.title('Number of component corresponding to explained variance ratio')"
   ]
  },
  {
   "cell_type": "code",
   "execution_count": 34,
   "metadata": {},
   "outputs": [
    {
     "name": "stdout",
     "output_type": "stream",
     "text": [
      "12\n"
     ]
    }
   ],
   "source": [
    "pca1 = PCA(0.9)\n",
    "pca1.fit_transform(scaled_data)\n",
    "print(pca1.n_components_)"
   ]
  },
  {
   "cell_type": "code",
   "execution_count": 35,
   "metadata": {
    "scrolled": true
   },
   "outputs": [
    {
     "data": {
      "text/html": [
       "<div>\n",
       "<style scoped>\n",
       "    .dataframe tbody tr th:only-of-type {\n",
       "        vertical-align: middle;\n",
       "    }\n",
       "\n",
       "    .dataframe tbody tr th {\n",
       "        vertical-align: top;\n",
       "    }\n",
       "\n",
       "    .dataframe thead th {\n",
       "        text-align: right;\n",
       "    }\n",
       "</style>\n",
       "<table border=\"1\" class=\"dataframe\">\n",
       "  <thead>\n",
       "    <tr style=\"text-align: right;\">\n",
       "      <th></th>\n",
       "      <th>0</th>\n",
       "      <th>1</th>\n",
       "      <th>2</th>\n",
       "      <th>3</th>\n",
       "      <th>4</th>\n",
       "      <th>5</th>\n",
       "      <th>6</th>\n",
       "      <th>7</th>\n",
       "      <th>8</th>\n",
       "      <th>9</th>\n",
       "      <th>10</th>\n",
       "      <th>11</th>\n",
       "      <th>12</th>\n",
       "    </tr>\n",
       "  </thead>\n",
       "  <tbody>\n",
       "    <tr>\n",
       "      <th>0</th>\n",
       "      <td>2.047349</td>\n",
       "      <td>0.999167</td>\n",
       "      <td>-0.789414</td>\n",
       "      <td>-2.245482</td>\n",
       "      <td>-1.143670</td>\n",
       "      <td>0.095179</td>\n",
       "      <td>0.584974</td>\n",
       "      <td>0.419919</td>\n",
       "      <td>-1.300689</td>\n",
       "      <td>-1.126366</td>\n",
       "      <td>0.978018</td>\n",
       "      <td>-0.149243</td>\n",
       "      <td>0.100700</td>\n",
       "    </tr>\n",
       "    <tr>\n",
       "      <th>1</th>\n",
       "      <td>2.286587</td>\n",
       "      <td>0.910327</td>\n",
       "      <td>-0.260291</td>\n",
       "      <td>-0.953016</td>\n",
       "      <td>0.287836</td>\n",
       "      <td>-0.653856</td>\n",
       "      <td>-0.185356</td>\n",
       "      <td>-0.442639</td>\n",
       "      <td>-0.756940</td>\n",
       "      <td>0.953621</td>\n",
       "      <td>0.548358</td>\n",
       "      <td>1.093864</td>\n",
       "      <td>0.628258</td>\n",
       "    </tr>\n",
       "    <tr>\n",
       "      <th>2</th>\n",
       "      <td>5.631284</td>\n",
       "      <td>1.675923</td>\n",
       "      <td>1.890803</td>\n",
       "      <td>-0.157270</td>\n",
       "      <td>0.914032</td>\n",
       "      <td>-1.092046</td>\n",
       "      <td>0.090713</td>\n",
       "      <td>-1.933324</td>\n",
       "      <td>-0.958290</td>\n",
       "      <td>-0.005721</td>\n",
       "      <td>-0.127951</td>\n",
       "      <td>-0.068814</td>\n",
       "      <td>1.066270</td>\n",
       "    </tr>\n",
       "    <tr>\n",
       "      <th>3</th>\n",
       "      <td>3.183385</td>\n",
       "      <td>-2.233933</td>\n",
       "      <td>2.698513</td>\n",
       "      <td>-0.479409</td>\n",
       "      <td>1.083842</td>\n",
       "      <td>-0.170715</td>\n",
       "      <td>0.391387</td>\n",
       "      <td>0.215519</td>\n",
       "      <td>1.032224</td>\n",
       "      <td>-0.449932</td>\n",
       "      <td>0.885168</td>\n",
       "      <td>-0.381347</td>\n",
       "      <td>-0.389838</td>\n",
       "    </tr>\n",
       "    <tr>\n",
       "      <th>4</th>\n",
       "      <td>-3.103101</td>\n",
       "      <td>0.296227</td>\n",
       "      <td>1.576676</td>\n",
       "      <td>-0.668436</td>\n",
       "      <td>-1.856734</td>\n",
       "      <td>-0.150238</td>\n",
       "      <td>0.151863</td>\n",
       "      <td>1.076403</td>\n",
       "      <td>0.180400</td>\n",
       "      <td>-0.297903</td>\n",
       "      <td>0.348259</td>\n",
       "      <td>-0.353553</td>\n",
       "      <td>0.182276</td>\n",
       "    </tr>\n",
       "  </tbody>\n",
       "</table>\n",
       "</div>"
      ],
      "text/plain": [
       "         0         1         2         3         4         5         6   \\\n",
       "0  2.047349  0.999167 -0.789414 -2.245482 -1.143670  0.095179  0.584974   \n",
       "1  2.286587  0.910327 -0.260291 -0.953016  0.287836 -0.653856 -0.185356   \n",
       "2  5.631284  1.675923  1.890803 -0.157270  0.914032 -1.092046  0.090713   \n",
       "3  3.183385 -2.233933  2.698513 -0.479409  1.083842 -0.170715  0.391387   \n",
       "4 -3.103101  0.296227  1.576676 -0.668436 -1.856734 -0.150238  0.151863   \n",
       "\n",
       "         7         8         9         10        11        12  \n",
       "0  0.419919 -1.300689 -1.126366  0.978018 -0.149243  0.100700  \n",
       "1 -0.442639 -0.756940  0.953621  0.548358  1.093864  0.628258  \n",
       "2 -1.933324 -0.958290 -0.005721 -0.127951 -0.068814  1.066270  \n",
       "3  0.215519  1.032224 -0.449932  0.885168 -0.381347 -0.389838  \n",
       "4  1.076403  0.180400 -0.297903  0.348259 -0.353553  0.182276  "
      ]
     },
     "metadata": {},
     "output_type": "display_data"
    }
   ],
   "source": [
    "pca = PCA(n_components=13)\n",
    "pca_data = pca.fit_transform(scaled_data)\n",
    "new_df3 = pd.DataFrame(pca_data)\n",
    "display(new_df3.head())"
   ]
  },
  {
   "cell_type": "code",
   "execution_count": 36,
   "metadata": {
    "scrolled": true
   },
   "outputs": [
    {
     "name": "stdout",
     "output_type": "stream",
     "text": [
      "The proportion of explained variance is [0.30620895 0.1294902  0.09151473 0.07692688 0.05324903 0.04696151\n",
      " 0.03975466 0.03768185 0.03615772 0.03081547 0.02768365 0.02706398\n",
      " 0.01865232]\n"
     ]
    }
   ],
   "source": [
    "print(f'The proportion of explained variance is {pca.explained_variance_ratio_}')"
   ]
  },
  {
   "cell_type": "code",
   "execution_count": 41,
   "metadata": {},
   "outputs": [
    {
     "name": "stdout",
     "output_type": "stream",
     "text": [
      "(619, 13)\n"
     ]
    }
   ],
   "source": [
    "print(new_df3.shape)"
   ]
  },
  {
   "cell_type": "code",
   "execution_count": 42,
   "metadata": {},
   "outputs": [
    {
     "name": "stdout",
     "output_type": "stream",
     "text": [
      "                 0             1             2             3             4   \\\n",
      "count  6.190000e+02  6.190000e+02  6.190000e+02  6.190000e+02  6.190000e+02   \n",
      "mean   2.726234e-17  9.290719e-17 -5.667698e-17  2.618620e-17  5.380725e-18   \n",
      "std    2.655975e+00  1.727164e+00  1.451980e+00  1.331233e+00  1.107569e+00   \n",
      "min   -6.758376e+00 -4.044663e+00 -4.037449e+00 -2.708175e+00 -3.256738e+00   \n",
      "25%   -2.186307e+00 -1.355214e+00 -1.034921e+00 -9.586052e-01 -8.167906e-01   \n",
      "50%    2.791552e-01  1.853367e-01 -7.281518e-02 -7.787591e-02 -2.694419e-02   \n",
      "75%    1.818148e+00  1.200873e+00  9.755101e-01  8.141243e-01  7.668494e-01   \n",
      "max    7.791619e+00  5.684919e+00  4.862369e+00  3.720232e+00  3.327879e+00   \n",
      "\n",
      "                 5             6             7             8             9   \\\n",
      "count  6.190000e+02  6.190000e+02  6.190000e+02  6.190000e+02  6.190000e+02   \n",
      "mean  -4.869557e-17 -1.155062e-16 -2.017772e-17  1.614666e-16  1.086907e-16   \n",
      "std    1.040126e+00  9.569936e-01  9.317107e-01  9.126736e-01  8.425572e-01   \n",
      "min   -2.603436e+00 -2.257025e+00 -2.525010e+00 -3.080785e+00 -2.666144e+00   \n",
      "25%   -7.107165e-01 -6.571252e-01 -6.045871e-01 -6.381530e-01 -5.525092e-01   \n",
      "50%   -3.633625e-02 -6.874859e-02 -2.893056e-02  9.368013e-03 -1.502531e-02   \n",
      "75%    6.118622e-01  4.918781e-01  6.156252e-01  5.808917e-01  5.788313e-01   \n",
      "max    3.353982e+00  3.324785e+00  3.707755e+00  3.274126e+00  3.056934e+00   \n",
      "\n",
      "                 10            11            12  \n",
      "count  6.190000e+02  6.190000e+02  6.190000e+02  \n",
      "mean  -1.605250e-17 -1.883254e-17 -9.049147e-17  \n",
      "std    7.985951e-01  7.896067e-01  6.555132e-01  \n",
      "min   -2.734987e+00 -2.275177e+00 -2.422184e+00  \n",
      "25%   -5.159562e-01 -4.824014e-01 -3.533982e-01  \n",
      "50%    2.914667e-02  2.461667e-02  6.071316e-03  \n",
      "75%    5.411788e-01  5.039870e-01  3.714744e-01  \n",
      "max    2.825481e+00  2.708616e+00  2.872221e+00  \n"
     ]
    }
   ],
   "source": [
    "print(new_df3.describe())"
   ]
  },
  {
   "cell_type": "markdown",
   "metadata": {},
   "source": [
    "# Question 12"
   ]
  },
  {
   "cell_type": "code",
   "execution_count": 39,
   "metadata": {},
   "outputs": [],
   "source": [
    "new_df3.to_csv('numeric train.csv')\n",
    "df.to_csv('categorical train.csv')"
   ]
  },
  {
   "cell_type": "code",
   "execution_count": null,
   "metadata": {},
   "outputs": [],
   "source": []
  },
  {
   "cell_type": "code",
   "execution_count": null,
   "metadata": {},
   "outputs": [],
   "source": []
  },
  {
   "cell_type": "code",
   "execution_count": null,
   "metadata": {},
   "outputs": [],
   "source": []
  },
  {
   "cell_type": "code",
   "execution_count": null,
   "metadata": {},
   "outputs": [],
   "source": []
  },
  {
   "cell_type": "code",
   "execution_count": null,
   "metadata": {},
   "outputs": [],
   "source": []
  },
  {
   "cell_type": "code",
   "execution_count": null,
   "metadata": {},
   "outputs": [],
   "source": []
  },
  {
   "cell_type": "code",
   "execution_count": null,
   "metadata": {},
   "outputs": [],
   "source": []
  },
  {
   "cell_type": "code",
   "execution_count": null,
   "metadata": {},
   "outputs": [],
   "source": []
  },
  {
   "cell_type": "code",
   "execution_count": null,
   "metadata": {},
   "outputs": [],
   "source": []
  }
 ],
 "metadata": {
  "kernelspec": {
   "display_name": "Python 3",
   "language": "python",
   "name": "python3"
  },
  "language_info": {
   "codemirror_mode": {
    "name": "ipython",
    "version": 3
   },
   "file_extension": ".py",
   "mimetype": "text/x-python",
   "name": "python",
   "nbconvert_exporter": "python",
   "pygments_lexer": "ipython3",
   "version": "3.7.3"
  }
 },
 "nbformat": 4,
 "nbformat_minor": 2
}
